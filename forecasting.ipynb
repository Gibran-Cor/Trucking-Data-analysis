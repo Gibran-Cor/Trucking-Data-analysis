{
 "cells": [
  {
   "cell_type": "code",
   "execution_count": 69,
   "id": "57ac0272-d2a6-4a03-8761-8a478b172025",
   "metadata": {
    "tags": []
   },
   "outputs": [],
   "source": [
    "from pyspark.sql import SparkSession\n",
    "from pyspark.sql.types import StructType, StructField, StringType, DoubleType, IntegerType\n",
    "spark = SparkSession.builder.appName(\"Read CSV File Into A DataFrame\").getOrCreate()\n",
    "rf_authors = spark.read.csv(\"riskfactor_out.csv\", sep = ',', inferSchema= True, header=False)"
   ]
  },
  {
   "cell_type": "code",
   "execution_count": 159,
   "id": "3f849b88-54bc-4162-abbd-4ffcfc567603",
   "metadata": {
    "tags": []
   },
   "outputs": [],
   "source": [
    "#!nvidia-smi\n",
    "import pandas as pd"
   ]
  },
  {
   "cell_type": "code",
   "execution_count": 74,
   "id": "f20c2128-1dea-47da-ae10-da59e8543e2d",
   "metadata": {
    "tags": []
   },
   "outputs": [
    {
     "data": {
      "text/plain": [
       "(99, 4)"
      ]
     },
     "execution_count": 74,
     "metadata": {},
     "output_type": "execute_result"
    }
   ],
   "source": [
    "risk_factor = rf_authors.toPandas()\n",
    "risk_factor.columns = [\"driverid\",\"events\", \"totmiles\", \"riskfactor\"]\n",
    "risk_factor.shape"
   ]
  },
  {
   "cell_type": "code",
   "execution_count": 75,
   "id": "085ed595-51e3-4b22-946f-58e49a770297",
   "metadata": {
    "tags": []
   },
   "outputs": [
    {
     "data": {
      "text/html": [
       "<div>\n",
       "<style scoped>\n",
       "    .dataframe tbody tr th:only-of-type {\n",
       "        vertical-align: middle;\n",
       "    }\n",
       "\n",
       "    .dataframe tbody tr th {\n",
       "        vertical-align: top;\n",
       "    }\n",
       "\n",
       "    .dataframe thead th {\n",
       "        text-align: right;\n",
       "    }\n",
       "</style>\n",
       "<table border=\"1\" class=\"dataframe\">\n",
       "  <thead>\n",
       "    <tr style=\"text-align: right;\">\n",
       "      <th></th>\n",
       "      <th>driverid</th>\n",
       "      <th>events</th>\n",
       "      <th>totmiles</th>\n",
       "      <th>riskfactor</th>\n",
       "    </tr>\n",
       "  </thead>\n",
       "  <tbody>\n",
       "    <tr>\n",
       "      <th>0</th>\n",
       "      <td>A1</td>\n",
       "      <td>3</td>\n",
       "      <td>628507</td>\n",
       "      <td>4.773216</td>\n",
       "    </tr>\n",
       "    <tr>\n",
       "      <th>1</th>\n",
       "      <td>A2</td>\n",
       "      <td>1</td>\n",
       "      <td>664543</td>\n",
       "      <td>1.504793</td>\n",
       "    </tr>\n",
       "    <tr>\n",
       "      <th>2</th>\n",
       "      <td>A3</td>\n",
       "      <td>6</td>\n",
       "      <td>639584</td>\n",
       "      <td>9.381098</td>\n",
       "    </tr>\n",
       "    <tr>\n",
       "      <th>3</th>\n",
       "      <td>A4</td>\n",
       "      <td>6</td>\n",
       "      <td>663289</td>\n",
       "      <td>9.045831</td>\n",
       "    </tr>\n",
       "    <tr>\n",
       "      <th>4</th>\n",
       "      <td>A5</td>\n",
       "      <td>9</td>\n",
       "      <td>676574</td>\n",
       "      <td>13.302314</td>\n",
       "    </tr>\n",
       "    <tr>\n",
       "      <th>...</th>\n",
       "      <td>...</td>\n",
       "      <td>...</td>\n",
       "      <td>...</td>\n",
       "      <td>...</td>\n",
       "    </tr>\n",
       "    <tr>\n",
       "      <th>94</th>\n",
       "      <td>A96</td>\n",
       "      <td>2</td>\n",
       "      <td>640287</td>\n",
       "      <td>3.123599</td>\n",
       "    </tr>\n",
       "    <tr>\n",
       "      <th>95</th>\n",
       "      <td>A97</td>\n",
       "      <td>20</td>\n",
       "      <td>631199</td>\n",
       "      <td>31.685730</td>\n",
       "    </tr>\n",
       "    <tr>\n",
       "      <th>96</th>\n",
       "      <td>A98</td>\n",
       "      <td>6</td>\n",
       "      <td>634665</td>\n",
       "      <td>9.453806</td>\n",
       "    </tr>\n",
       "    <tr>\n",
       "      <th>97</th>\n",
       "      <td>A99</td>\n",
       "      <td>4</td>\n",
       "      <td>640800</td>\n",
       "      <td>6.242197</td>\n",
       "    </tr>\n",
       "    <tr>\n",
       "      <th>98</th>\n",
       "      <td>A100</td>\n",
       "      <td>4</td>\n",
       "      <td>634338</td>\n",
       "      <td>6.305787</td>\n",
       "    </tr>\n",
       "  </tbody>\n",
       "</table>\n",
       "<p>99 rows × 4 columns</p>\n",
       "</div>"
      ],
      "text/plain": [
       "   driverid  events  totmiles  riskfactor\n",
       "0        A1       3    628507    4.773216\n",
       "1        A2       1    664543    1.504793\n",
       "2        A3       6    639584    9.381098\n",
       "3        A4       6    663289    9.045831\n",
       "4        A5       9    676574   13.302314\n",
       "..      ...     ...       ...         ...\n",
       "94      A96       2    640287    3.123599\n",
       "95      A97      20    631199   31.685730\n",
       "96      A98       6    634665    9.453806\n",
       "97      A99       4    640800    6.242197\n",
       "98     A100       4    634338    6.305787\n",
       "\n",
       "[99 rows x 4 columns]"
      ]
     },
     "execution_count": 75,
     "metadata": {},
     "output_type": "execute_result"
    }
   ],
   "source": [
    "risk_factor"
   ]
  },
  {
   "cell_type": "code",
   "execution_count": 79,
   "id": "4e27b054-556d-4b2f-b30b-4b8c867b5f6c",
   "metadata": {
    "tags": []
   },
   "outputs": [
    {
     "data": {
      "text/plain": [
       "(8000, 10)"
      ]
     },
     "execution_count": 79,
     "metadata": {},
     "output_type": "execute_result"
    }
   ],
   "source": [
    "geo_authors = spark.read.csv(\"geolocation_out.csv\", sep = ',', inferSchema= True, header=True)\n",
    "geolocation = geo_authors.toPandas()\n",
    "# geolocation.columns = [\"driverid\",\"events\", \"totmiles\", \"riskfactor\"]\n",
    "geolocation.shape"
   ]
  },
  {
   "cell_type": "code",
   "execution_count": 82,
   "id": "bd452d1b-9374-4558-a0f1-9fab406c5334",
   "metadata": {
    "tags": []
   },
   "outputs": [
    {
     "data": {
      "text/html": [
       "<div>\n",
       "<style scoped>\n",
       "    .dataframe tbody tr th:only-of-type {\n",
       "        vertical-align: middle;\n",
       "    }\n",
       "\n",
       "    .dataframe tbody tr th {\n",
       "        vertical-align: top;\n",
       "    }\n",
       "\n",
       "    .dataframe thead th {\n",
       "        text-align: right;\n",
       "    }\n",
       "</style>\n",
       "<table border=\"1\" class=\"dataframe\">\n",
       "  <thead>\n",
       "    <tr style=\"text-align: right;\">\n",
       "      <th></th>\n",
       "      <th>truckid</th>\n",
       "      <th>driverid</th>\n",
       "      <th>event</th>\n",
       "      <th>latitude</th>\n",
       "      <th>longitude</th>\n",
       "      <th>city</th>\n",
       "      <th>state</th>\n",
       "      <th>velocity</th>\n",
       "      <th>event_ind</th>\n",
       "      <th>idling_ind</th>\n",
       "    </tr>\n",
       "  </thead>\n",
       "  <tbody>\n",
       "    <tr>\n",
       "      <th>0</th>\n",
       "      <td>A54</td>\n",
       "      <td>A54</td>\n",
       "      <td>normal</td>\n",
       "      <td>38.440467</td>\n",
       "      <td>-122.714431</td>\n",
       "      <td>Santa Rosa</td>\n",
       "      <td>California</td>\n",
       "      <td>17</td>\n",
       "      <td>0</td>\n",
       "      <td>0</td>\n",
       "    </tr>\n",
       "    <tr>\n",
       "      <th>1</th>\n",
       "      <td>A20</td>\n",
       "      <td>A20</td>\n",
       "      <td>normal</td>\n",
       "      <td>36.977173</td>\n",
       "      <td>-121.899402</td>\n",
       "      <td>Aptos</td>\n",
       "      <td>California</td>\n",
       "      <td>27</td>\n",
       "      <td>0</td>\n",
       "      <td>0</td>\n",
       "    </tr>\n",
       "    <tr>\n",
       "      <th>2</th>\n",
       "      <td>A40</td>\n",
       "      <td>A40</td>\n",
       "      <td>overspeed</td>\n",
       "      <td>37.957702</td>\n",
       "      <td>-121.290780</td>\n",
       "      <td>Stockton</td>\n",
       "      <td>California</td>\n",
       "      <td>77</td>\n",
       "      <td>1</td>\n",
       "      <td>0</td>\n",
       "    </tr>\n",
       "    <tr>\n",
       "      <th>3</th>\n",
       "      <td>A31</td>\n",
       "      <td>A31</td>\n",
       "      <td>normal</td>\n",
       "      <td>39.409608</td>\n",
       "      <td>-123.355566</td>\n",
       "      <td>Willits</td>\n",
       "      <td>California</td>\n",
       "      <td>22</td>\n",
       "      <td>0</td>\n",
       "      <td>0</td>\n",
       "    </tr>\n",
       "    <tr>\n",
       "      <th>4</th>\n",
       "      <td>A71</td>\n",
       "      <td>A71</td>\n",
       "      <td>normal</td>\n",
       "      <td>33.683947</td>\n",
       "      <td>-117.794694</td>\n",
       "      <td>Irvine</td>\n",
       "      <td>California</td>\n",
       "      <td>43</td>\n",
       "      <td>0</td>\n",
       "      <td>0</td>\n",
       "    </tr>\n",
       "  </tbody>\n",
       "</table>\n",
       "</div>"
      ],
      "text/plain": [
       "  truckid driverid      event   latitude   longitude        city       state   \n",
       "0     A54      A54     normal  38.440467 -122.714431  Santa Rosa  California  \\\n",
       "1     A20      A20     normal  36.977173 -121.899402       Aptos  California   \n",
       "2     A40      A40  overspeed  37.957702 -121.290780    Stockton  California   \n",
       "3     A31      A31     normal  39.409608 -123.355566     Willits  California   \n",
       "4     A71      A71     normal  33.683947 -117.794694      Irvine  California   \n",
       "\n",
       "   velocity  event_ind  idling_ind  \n",
       "0        17          0           0  \n",
       "1        27          0           0  \n",
       "2        77          1           0  \n",
       "3        22          0           0  \n",
       "4        43          0           0  "
      ]
     },
     "execution_count": 82,
     "metadata": {},
     "output_type": "execute_result"
    }
   ],
   "source": [
    "geolocation.head()"
   ]
  },
  {
   "cell_type": "code",
   "execution_count": 124,
   "id": "59ad6ee2-231d-472a-abdc-d64574aadf43",
   "metadata": {
    "tags": []
   },
   "outputs": [
    {
     "data": {
      "text/html": [
       "<div>\n",
       "<style scoped>\n",
       "    .dataframe tbody tr th:only-of-type {\n",
       "        vertical-align: middle;\n",
       "    }\n",
       "\n",
       "    .dataframe tbody tr th {\n",
       "        vertical-align: top;\n",
       "    }\n",
       "\n",
       "    .dataframe thead th {\n",
       "        text-align: right;\n",
       "    }\n",
       "</style>\n",
       "<table border=\"1\" class=\"dataframe\">\n",
       "  <thead>\n",
       "    <tr style=\"text-align: right;\">\n",
       "      <th></th>\n",
       "      <th>latitude</th>\n",
       "      <th>longitude</th>\n",
       "      <th>velocity</th>\n",
       "      <th>event_ind</th>\n",
       "      <th>idling_ind</th>\n",
       "    </tr>\n",
       "  </thead>\n",
       "  <tbody>\n",
       "    <tr>\n",
       "      <th>count</th>\n",
       "      <td>8000.000000</td>\n",
       "      <td>8000.000000</td>\n",
       "      <td>8000.00000</td>\n",
       "      <td>8000.000000</td>\n",
       "      <td>8000.000000</td>\n",
       "    </tr>\n",
       "    <tr>\n",
       "      <th>mean</th>\n",
       "      <td>37.128944</td>\n",
       "      <td>-118.629551</td>\n",
       "      <td>35.05650</td>\n",
       "      <td>0.056375</td>\n",
       "      <td>0.230375</td>\n",
       "    </tr>\n",
       "    <tr>\n",
       "      <th>std</th>\n",
       "      <td>2.214427</td>\n",
       "      <td>16.004797</td>\n",
       "      <td>24.86375</td>\n",
       "      <td>0.230659</td>\n",
       "      <td>0.421099</td>\n",
       "    </tr>\n",
       "    <tr>\n",
       "      <th>min</th>\n",
       "      <td>32.617680</td>\n",
       "      <td>-124.038407</td>\n",
       "      <td>0.00000</td>\n",
       "      <td>0.000000</td>\n",
       "      <td>0.000000</td>\n",
       "    </tr>\n",
       "    <tr>\n",
       "      <th>25%</th>\n",
       "      <td>34.579434</td>\n",
       "      <td>-122.524149</td>\n",
       "      <td>16.00000</td>\n",
       "      <td>0.000000</td>\n",
       "      <td>0.000000</td>\n",
       "    </tr>\n",
       "    <tr>\n",
       "      <th>50%</th>\n",
       "      <td>37.957702</td>\n",
       "      <td>-121.568275</td>\n",
       "      <td>37.00000</td>\n",
       "      <td>0.000000</td>\n",
       "      <td>0.000000</td>\n",
       "    </tr>\n",
       "    <tr>\n",
       "      <th>75%</th>\n",
       "      <td>38.693723</td>\n",
       "      <td>-119.018712</td>\n",
       "      <td>55.00000</td>\n",
       "      <td>0.000000</td>\n",
       "      <td>0.000000</td>\n",
       "    </tr>\n",
       "    <tr>\n",
       "      <th>max</th>\n",
       "      <td>41.526509</td>\n",
       "      <td>-6.196595</td>\n",
       "      <td>100.00000</td>\n",
       "      <td>1.000000</td>\n",
       "      <td>1.000000</td>\n",
       "    </tr>\n",
       "  </tbody>\n",
       "</table>\n",
       "</div>"
      ],
      "text/plain": [
       "          latitude    longitude    velocity    event_ind   idling_ind\n",
       "count  8000.000000  8000.000000  8000.00000  8000.000000  8000.000000\n",
       "mean     37.128944  -118.629551    35.05650     0.056375     0.230375\n",
       "std       2.214427    16.004797    24.86375     0.230659     0.421099\n",
       "min      32.617680  -124.038407     0.00000     0.000000     0.000000\n",
       "25%      34.579434  -122.524149    16.00000     0.000000     0.000000\n",
       "50%      37.957702  -121.568275    37.00000     0.000000     0.000000\n",
       "75%      38.693723  -119.018712    55.00000     0.000000     0.000000\n",
       "max      41.526509    -6.196595   100.00000     1.000000     1.000000"
      ]
     },
     "execution_count": 124,
     "metadata": {},
     "output_type": "execute_result"
    }
   ],
   "source": [
    "geolocation.describe()"
   ]
  },
  {
   "cell_type": "code",
   "execution_count": 102,
   "id": "20b53b6c-c1cd-43be-a8f9-38d9dc9b048e",
   "metadata": {
    "tags": []
   },
   "outputs": [
    {
     "data": {
      "text/plain": [
       "(5400, 6)"
      ]
     },
     "execution_count": 102,
     "metadata": {},
     "output_type": "execute_result"
    }
   ],
   "source": [
    "tm_authors = spark.read.csv(\"truck_mileage_out.csv\", sep = ',', inferSchema= True, header=False)\n",
    "truck_mileage = tm_authors.toPandas()\n",
    "truck_mileage.columns = [\"truckid\",\"driverid\", \"rdate\", \"miles\", \"gas\", \"mpg\"]\n",
    "truck_mileage.shape"
   ]
  },
  {
   "cell_type": "code",
   "execution_count": 103,
   "id": "d4209da9-bd9d-43a9-8998-6a10d6c87343",
   "metadata": {
    "tags": []
   },
   "outputs": [
    {
     "data": {
      "text/html": [
       "<div>\n",
       "<style scoped>\n",
       "    .dataframe tbody tr th:only-of-type {\n",
       "        vertical-align: middle;\n",
       "    }\n",
       "\n",
       "    .dataframe tbody tr th {\n",
       "        vertical-align: top;\n",
       "    }\n",
       "\n",
       "    .dataframe thead th {\n",
       "        text-align: right;\n",
       "    }\n",
       "</style>\n",
       "<table border=\"1\" class=\"dataframe\">\n",
       "  <thead>\n",
       "    <tr style=\"text-align: right;\">\n",
       "      <th></th>\n",
       "      <th>truckid</th>\n",
       "      <th>driverid</th>\n",
       "      <th>rdate</th>\n",
       "      <th>miles</th>\n",
       "      <th>gas</th>\n",
       "      <th>mpg</th>\n",
       "    </tr>\n",
       "  </thead>\n",
       "  <tbody>\n",
       "    <tr>\n",
       "      <th>0</th>\n",
       "      <td>A1</td>\n",
       "      <td>A1</td>\n",
       "      <td>jun13</td>\n",
       "      <td>9217</td>\n",
       "      <td>1914</td>\n",
       "      <td>4.815569</td>\n",
       "    </tr>\n",
       "    <tr>\n",
       "      <th>1</th>\n",
       "      <td>A1</td>\n",
       "      <td>A1</td>\n",
       "      <td>may13</td>\n",
       "      <td>8769</td>\n",
       "      <td>1892</td>\n",
       "      <td>4.634778</td>\n",
       "    </tr>\n",
       "    <tr>\n",
       "      <th>2</th>\n",
       "      <td>A1</td>\n",
       "      <td>A1</td>\n",
       "      <td>apr13</td>\n",
       "      <td>14234</td>\n",
       "      <td>3008</td>\n",
       "      <td>4.732048</td>\n",
       "    </tr>\n",
       "    <tr>\n",
       "      <th>3</th>\n",
       "      <td>A1</td>\n",
       "      <td>A1</td>\n",
       "      <td>mar13</td>\n",
       "      <td>11519</td>\n",
       "      <td>2262</td>\n",
       "      <td>5.092396</td>\n",
       "    </tr>\n",
       "    <tr>\n",
       "      <th>4</th>\n",
       "      <td>A1</td>\n",
       "      <td>A1</td>\n",
       "      <td>feb13</td>\n",
       "      <td>8676</td>\n",
       "      <td>1596</td>\n",
       "      <td>5.436090</td>\n",
       "    </tr>\n",
       "  </tbody>\n",
       "</table>\n",
       "</div>"
      ],
      "text/plain": [
       "  truckid driverid  rdate  miles   gas       mpg\n",
       "0      A1       A1  jun13   9217  1914  4.815569\n",
       "1      A1       A1  may13   8769  1892  4.634778\n",
       "2      A1       A1  apr13  14234  3008  4.732048\n",
       "3      A1       A1  mar13  11519  2262  5.092396\n",
       "4      A1       A1  feb13   8676  1596  5.436090"
      ]
     },
     "execution_count": 103,
     "metadata": {},
     "output_type": "execute_result"
    }
   ],
   "source": [
    "truck_mileage.head()"
   ]
  },
  {
   "cell_type": "code",
   "execution_count": 92,
   "id": "06400c0b-a680-4858-bba6-d3e00b276b2c",
   "metadata": {
    "tags": []
   },
   "outputs": [
    {
     "data": {
      "text/plain": [
       "(100, 6)"
      ]
     },
     "execution_count": 92,
     "metadata": {},
     "output_type": "execute_result"
    }
   ],
   "source": [
    "tmg_authors = spark.read.csv(\"trucks_mg_out.csv\", sep = ',', inferSchema= True, header=True)\n",
    "truck_mg = tmg_authors.toPandas()\n",
    "truck_mg.columns = [\"driverid\",\"truckid\", \"model\", \"Tdate\", \"miles\", \"gas\"]\n",
    "truck_mg.shape"
   ]
  },
  {
   "cell_type": "code",
   "execution_count": 121,
   "id": "320835af-2f78-404f-9537-b8e72c56c59a",
   "metadata": {
    "tags": []
   },
   "outputs": [
    {
     "data": {
      "text/html": [
       "<div>\n",
       "<style scoped>\n",
       "    .dataframe tbody tr th:only-of-type {\n",
       "        vertical-align: middle;\n",
       "    }\n",
       "\n",
       "    .dataframe tbody tr th {\n",
       "        vertical-align: top;\n",
       "    }\n",
       "\n",
       "    .dataframe thead th {\n",
       "        text-align: right;\n",
       "    }\n",
       "</style>\n",
       "<table border=\"1\" class=\"dataframe\">\n",
       "  <thead>\n",
       "    <tr style=\"text-align: right;\">\n",
       "      <th></th>\n",
       "      <th>driverid</th>\n",
       "      <th>truckid</th>\n",
       "      <th>model</th>\n",
       "      <th>Tdate</th>\n",
       "      <th>miles</th>\n",
       "      <th>gas</th>\n",
       "    </tr>\n",
       "  </thead>\n",
       "  <tbody>\n",
       "    <tr>\n",
       "      <th>0</th>\n",
       "      <td>A1</td>\n",
       "      <td>A1</td>\n",
       "      <td>Freightliner</td>\n",
       "      <td>1/1/2015</td>\n",
       "      <td>9217</td>\n",
       "      <td>1914</td>\n",
       "    </tr>\n",
       "    <tr>\n",
       "      <th>1</th>\n",
       "      <td>A2</td>\n",
       "      <td>A2</td>\n",
       "      <td>Ford</td>\n",
       "      <td>10/2/2015</td>\n",
       "      <td>12058</td>\n",
       "      <td>2335</td>\n",
       "    </tr>\n",
       "    <tr>\n",
       "      <th>2</th>\n",
       "      <td>A3</td>\n",
       "      <td>A3</td>\n",
       "      <td>Ford</td>\n",
       "      <td>15/03/2015</td>\n",
       "      <td>13652</td>\n",
       "      <td>2899</td>\n",
       "    </tr>\n",
       "    <tr>\n",
       "      <th>3</th>\n",
       "      <td>A4</td>\n",
       "      <td>A4</td>\n",
       "      <td>Kenworth</td>\n",
       "      <td>15/04/2015</td>\n",
       "      <td>12687</td>\n",
       "      <td>2439</td>\n",
       "    </tr>\n",
       "    <tr>\n",
       "      <th>4</th>\n",
       "      <td>A5</td>\n",
       "      <td>A5</td>\n",
       "      <td>Hino</td>\n",
       "      <td>15/05/2016</td>\n",
       "      <td>10233</td>\n",
       "      <td>1825</td>\n",
       "    </tr>\n",
       "  </tbody>\n",
       "</table>\n",
       "</div>"
      ],
      "text/plain": [
       "  driverid truckid         model       Tdate  miles   gas\n",
       "0       A1      A1  Freightliner    1/1/2015   9217  1914\n",
       "1       A2      A2          Ford   10/2/2015  12058  2335\n",
       "2       A3      A3          Ford  15/03/2015  13652  2899\n",
       "3       A4      A4      Kenworth  15/04/2015  12687  2439\n",
       "4       A5      A5          Hino  15/05/2016  10233  1825"
      ]
     },
     "execution_count": 121,
     "metadata": {},
     "output_type": "execute_result"
    }
   ],
   "source": [
    "truck_mg.head()"
   ]
  },
  {
   "cell_type": "code",
   "execution_count": 126,
   "id": "6ec15dcb-5663-4542-943b-8a154e8b3d64",
   "metadata": {
    "tags": []
   },
   "outputs": [
    {
     "data": {
      "text/html": [
       "<div>\n",
       "<style scoped>\n",
       "    .dataframe tbody tr th:only-of-type {\n",
       "        vertical-align: middle;\n",
       "    }\n",
       "\n",
       "    .dataframe tbody tr th {\n",
       "        vertical-align: top;\n",
       "    }\n",
       "\n",
       "    .dataframe thead th {\n",
       "        text-align: right;\n",
       "    }\n",
       "</style>\n",
       "<table border=\"1\" class=\"dataframe\">\n",
       "  <thead>\n",
       "    <tr style=\"text-align: right;\">\n",
       "      <th></th>\n",
       "      <th>miles</th>\n",
       "      <th>gas</th>\n",
       "    </tr>\n",
       "  </thead>\n",
       "  <tbody>\n",
       "    <tr>\n",
       "      <th>count</th>\n",
       "      <td>100.000000</td>\n",
       "      <td>100.000000</td>\n",
       "    </tr>\n",
       "    <tr>\n",
       "      <th>mean</th>\n",
       "      <td>12043.120000</td>\n",
       "      <td>2456.320000</td>\n",
       "    </tr>\n",
       "    <tr>\n",
       "      <th>std</th>\n",
       "      <td>1777.444655</td>\n",
       "      <td>436.052075</td>\n",
       "    </tr>\n",
       "    <tr>\n",
       "      <th>min</th>\n",
       "      <td>8490.000000</td>\n",
       "      <td>1593.000000</td>\n",
       "    </tr>\n",
       "    <tr>\n",
       "      <th>25%</th>\n",
       "      <td>10669.500000</td>\n",
       "      <td>2091.000000</td>\n",
       "    </tr>\n",
       "    <tr>\n",
       "      <th>50%</th>\n",
       "      <td>12048.000000</td>\n",
       "      <td>2438.500000</td>\n",
       "    </tr>\n",
       "    <tr>\n",
       "      <th>75%</th>\n",
       "      <td>13533.000000</td>\n",
       "      <td>2744.750000</td>\n",
       "    </tr>\n",
       "    <tr>\n",
       "      <th>max</th>\n",
       "      <td>15548.000000</td>\n",
       "      <td>3446.000000</td>\n",
       "    </tr>\n",
       "  </tbody>\n",
       "</table>\n",
       "</div>"
      ],
      "text/plain": [
       "              miles          gas\n",
       "count    100.000000   100.000000\n",
       "mean   12043.120000  2456.320000\n",
       "std     1777.444655   436.052075\n",
       "min     8490.000000  1593.000000\n",
       "25%    10669.500000  2091.000000\n",
       "50%    12048.000000  2438.500000\n",
       "75%    13533.000000  2744.750000\n",
       "max    15548.000000  3446.000000"
      ]
     },
     "execution_count": 126,
     "metadata": {},
     "output_type": "execute_result"
    }
   ],
   "source": [
    "truck_mg.describe()"
   ]
  },
  {
   "cell_type": "code",
   "execution_count": 94,
   "id": "3f62b199-eb65-4a6a-ac66-2146e91331de",
   "metadata": {
    "tags": []
   },
   "outputs": [
    {
     "data": {
      "text/plain": [
       "(100, 111)"
      ]
     },
     "execution_count": 94,
     "metadata": {},
     "output_type": "execute_result"
    }
   ],
   "source": [
    "t_authors = spark.read.csv(\"trucks_out.csv\", sep = ',', inferSchema= True, header=True)\n",
    "trucks = t_authors.toPandas()\n",
    "# truck_mg.columns = [\"driverid\",\"truckid\", \"model\", \"Tdate\", \"miles\", \"gas\"]\n",
    "trucks.shape"
   ]
  },
  {
   "cell_type": "code",
   "execution_count": 95,
   "id": "9e4348e7-5e76-423a-b5b6-7659ac7be4a8",
   "metadata": {
    "tags": []
   },
   "outputs": [
    {
     "data": {
      "text/html": [
       "<div>\n",
       "<style scoped>\n",
       "    .dataframe tbody tr th:only-of-type {\n",
       "        vertical-align: middle;\n",
       "    }\n",
       "\n",
       "    .dataframe tbody tr th {\n",
       "        vertical-align: top;\n",
       "    }\n",
       "\n",
       "    .dataframe thead th {\n",
       "        text-align: right;\n",
       "    }\n",
       "</style>\n",
       "<table border=\"1\" class=\"dataframe\">\n",
       "  <thead>\n",
       "    <tr style=\"text-align: right;\">\n",
       "      <th></th>\n",
       "      <th>driverid</th>\n",
       "      <th>truckid</th>\n",
       "      <th>model</th>\n",
       "      <th>jun13_miles</th>\n",
       "      <th>jun13_gas</th>\n",
       "      <th>may13_miles</th>\n",
       "      <th>may13_gas</th>\n",
       "      <th>apr13_miles</th>\n",
       "      <th>apr13_gas</th>\n",
       "      <th>mar13_miles</th>\n",
       "      <th>...</th>\n",
       "      <th>may09_miles</th>\n",
       "      <th>may09_gas</th>\n",
       "      <th>apr09_miles</th>\n",
       "      <th>apr09_gas</th>\n",
       "      <th>mar09_miles</th>\n",
       "      <th>mar09_gas</th>\n",
       "      <th>feb09_miles</th>\n",
       "      <th>feb09_gas</th>\n",
       "      <th>jan09_miles</th>\n",
       "      <th>jan09_gas</th>\n",
       "    </tr>\n",
       "  </thead>\n",
       "  <tbody>\n",
       "    <tr>\n",
       "      <th>0</th>\n",
       "      <td>A1</td>\n",
       "      <td>A1</td>\n",
       "      <td>Freightliner</td>\n",
       "      <td>9217</td>\n",
       "      <td>1914</td>\n",
       "      <td>8769</td>\n",
       "      <td>1892</td>\n",
       "      <td>14234</td>\n",
       "      <td>3008</td>\n",
       "      <td>11519</td>\n",
       "      <td>...</td>\n",
       "      <td>12073</td>\n",
       "      <td>2642</td>\n",
       "      <td>15276</td>\n",
       "      <td>2642</td>\n",
       "      <td>9880</td>\n",
       "      <td>2642</td>\n",
       "      <td>13861</td>\n",
       "      <td>2642</td>\n",
       "      <td>11176</td>\n",
       "      <td>2642</td>\n",
       "    </tr>\n",
       "    <tr>\n",
       "      <th>1</th>\n",
       "      <td>A2</td>\n",
       "      <td>A2</td>\n",
       "      <td>Ford</td>\n",
       "      <td>12058</td>\n",
       "      <td>2335</td>\n",
       "      <td>14314</td>\n",
       "      <td>2648</td>\n",
       "      <td>11050</td>\n",
       "      <td>2323</td>\n",
       "      <td>14114</td>\n",
       "      <td>...</td>\n",
       "      <td>13912</td>\n",
       "      <td>1827</td>\n",
       "      <td>11892</td>\n",
       "      <td>1827</td>\n",
       "      <td>15158</td>\n",
       "      <td>1827</td>\n",
       "      <td>12774</td>\n",
       "      <td>1827</td>\n",
       "      <td>11743</td>\n",
       "      <td>1827</td>\n",
       "    </tr>\n",
       "    <tr>\n",
       "      <th>2</th>\n",
       "      <td>A3</td>\n",
       "      <td>A3</td>\n",
       "      <td>Ford</td>\n",
       "      <td>13652</td>\n",
       "      <td>2899</td>\n",
       "      <td>12075</td>\n",
       "      <td>2603</td>\n",
       "      <td>12277</td>\n",
       "      <td>2792</td>\n",
       "      <td>9642</td>\n",
       "      <td>...</td>\n",
       "      <td>9821</td>\n",
       "      <td>3064</td>\n",
       "      <td>15224</td>\n",
       "      <td>3064</td>\n",
       "      <td>11209</td>\n",
       "      <td>3064</td>\n",
       "      <td>14203</td>\n",
       "      <td>3064</td>\n",
       "      <td>10150</td>\n",
       "      <td>3064</td>\n",
       "    </tr>\n",
       "    <tr>\n",
       "      <th>3</th>\n",
       "      <td>A4</td>\n",
       "      <td>A4</td>\n",
       "      <td>Kenworth</td>\n",
       "      <td>12687</td>\n",
       "      <td>2439</td>\n",
       "      <td>10680</td>\n",
       "      <td>2083</td>\n",
       "      <td>11071</td>\n",
       "      <td>2599</td>\n",
       "      <td>12302</td>\n",
       "      <td>...</td>\n",
       "      <td>14419</td>\n",
       "      <td>2965</td>\n",
       "      <td>14684</td>\n",
       "      <td>2965</td>\n",
       "      <td>13090</td>\n",
       "      <td>2965</td>\n",
       "      <td>15090</td>\n",
       "      <td>2965</td>\n",
       "      <td>14249</td>\n",
       "      <td>2965</td>\n",
       "    </tr>\n",
       "    <tr>\n",
       "      <th>4</th>\n",
       "      <td>A5</td>\n",
       "      <td>A5</td>\n",
       "      <td>Hino</td>\n",
       "      <td>10233</td>\n",
       "      <td>1825</td>\n",
       "      <td>14634</td>\n",
       "      <td>3450</td>\n",
       "      <td>9281</td>\n",
       "      <td>2028</td>\n",
       "      <td>13547</td>\n",
       "      <td>...</td>\n",
       "      <td>12275</td>\n",
       "      <td>2310</td>\n",
       "      <td>14289</td>\n",
       "      <td>2310</td>\n",
       "      <td>13046</td>\n",
       "      <td>2310</td>\n",
       "      <td>9582</td>\n",
       "      <td>2310</td>\n",
       "      <td>10509</td>\n",
       "      <td>2310</td>\n",
       "    </tr>\n",
       "  </tbody>\n",
       "</table>\n",
       "<p>5 rows × 111 columns</p>\n",
       "</div>"
      ],
      "text/plain": [
       "  driverid truckid         model  jun13_miles  jun13_gas  may13_miles   \n",
       "0       A1      A1  Freightliner         9217       1914         8769  \\\n",
       "1       A2      A2          Ford        12058       2335        14314   \n",
       "2       A3      A3          Ford        13652       2899        12075   \n",
       "3       A4      A4      Kenworth        12687       2439        10680   \n",
       "4       A5      A5          Hino        10233       1825        14634   \n",
       "\n",
       "   may13_gas  apr13_miles  apr13_gas  mar13_miles  ...  may09_miles   \n",
       "0       1892        14234       3008        11519  ...        12073  \\\n",
       "1       2648        11050       2323        14114  ...        13912   \n",
       "2       2603        12277       2792         9642  ...         9821   \n",
       "3       2083        11071       2599        12302  ...        14419   \n",
       "4       3450         9281       2028        13547  ...        12275   \n",
       "\n",
       "   may09_gas  apr09_miles  apr09_gas  mar09_miles  mar09_gas  feb09_miles   \n",
       "0       2642        15276       2642         9880       2642        13861  \\\n",
       "1       1827        11892       1827        15158       1827        12774   \n",
       "2       3064        15224       3064        11209       3064        14203   \n",
       "3       2965        14684       2965        13090       2965        15090   \n",
       "4       2310        14289       2310        13046       2310         9582   \n",
       "\n",
       "   feb09_gas  jan09_miles  jan09_gas  \n",
       "0       2642        11176       2642  \n",
       "1       1827        11743       1827  \n",
       "2       3064        10150       3064  \n",
       "3       2965        14249       2965  \n",
       "4       2310        10509       2310  \n",
       "\n",
       "[5 rows x 111 columns]"
      ]
     },
     "execution_count": 95,
     "metadata": {},
     "output_type": "execute_result"
    }
   ],
   "source": [
    "trucks.head()"
   ]
  },
  {
   "cell_type": "code",
   "execution_count": 104,
   "id": "1ab07d12-5f3c-498b-9add-d5073377b49a",
   "metadata": {
    "tags": []
   },
   "outputs": [
    {
     "data": {
      "text/plain": [
       "(100, 2)"
      ]
     },
     "execution_count": 104,
     "metadata": {},
     "output_type": "execute_result"
    }
   ],
   "source": [
    "avgm_authors = spark.read.csv(\"avg_mileage_out.csv\", sep = ',', inferSchema= True, header=False)\n",
    "avgmileage = avgm_authors.toPandas()\n",
    "avgmileage.columns = [\"truckid\", \"avgmpg\"]\n",
    "avgmileage.shape"
   ]
  },
  {
   "cell_type": "code",
   "execution_count": 105,
   "id": "56e0909d-6f41-4023-8e3e-abd1bc545b6e",
   "metadata": {
    "tags": []
   },
   "outputs": [
    {
     "data": {
      "text/html": [
       "<div>\n",
       "<style scoped>\n",
       "    .dataframe tbody tr th:only-of-type {\n",
       "        vertical-align: middle;\n",
       "    }\n",
       "\n",
       "    .dataframe tbody tr th {\n",
       "        vertical-align: top;\n",
       "    }\n",
       "\n",
       "    .dataframe thead th {\n",
       "        text-align: right;\n",
       "    }\n",
       "</style>\n",
       "<table border=\"1\" class=\"dataframe\">\n",
       "  <thead>\n",
       "    <tr style=\"text-align: right;\">\n",
       "      <th></th>\n",
       "      <th>truckid</th>\n",
       "      <th>avgmpg</th>\n",
       "    </tr>\n",
       "  </thead>\n",
       "  <tbody>\n",
       "    <tr>\n",
       "      <th>0</th>\n",
       "      <td>A1</td>\n",
       "      <td>4.785823</td>\n",
       "    </tr>\n",
       "    <tr>\n",
       "      <th>1</th>\n",
       "      <td>A10</td>\n",
       "      <td>5.401718</td>\n",
       "    </tr>\n",
       "    <tr>\n",
       "      <th>2</th>\n",
       "      <td>A100</td>\n",
       "      <td>4.939039</td>\n",
       "    </tr>\n",
       "    <tr>\n",
       "      <th>3</th>\n",
       "      <td>A11</td>\n",
       "      <td>5.502369</td>\n",
       "    </tr>\n",
       "    <tr>\n",
       "      <th>4</th>\n",
       "      <td>A12</td>\n",
       "      <td>4.686164</td>\n",
       "    </tr>\n",
       "  </tbody>\n",
       "</table>\n",
       "</div>"
      ],
      "text/plain": [
       "  truckid    avgmpg\n",
       "0      A1  4.785823\n",
       "1     A10  5.401718\n",
       "2    A100  4.939039\n",
       "3     A11  5.502369\n",
       "4     A12  4.686164"
      ]
     },
     "execution_count": 105,
     "metadata": {},
     "output_type": "execute_result"
    }
   ],
   "source": [
    "avgmileage.head()"
   ]
  },
  {
   "cell_type": "code",
   "execution_count": 107,
   "id": "48ba9d6c-1d43-467c-b92d-63722abb1ea7",
   "metadata": {
    "tags": []
   },
   "outputs": [
    {
     "data": {
      "text/plain": [
       "(100, 2)"
      ]
     },
     "execution_count": 107,
     "metadata": {},
     "output_type": "execute_result"
    }
   ],
   "source": [
    "driverm_authors = spark.read.csv(\"driver_mileage_out.csv\", sep = ',', inferSchema= True, header=False)\n",
    "drivermileage = driverm_authors.toPandas()\n",
    "drivermileage.columns = [\"driverid\", \"totmiles\"]\n",
    "drivermileage.shape"
   ]
  },
  {
   "cell_type": "code",
   "execution_count": 108,
   "id": "5bad7ec0-2e72-432f-965a-07b278b77d74",
   "metadata": {
    "tags": []
   },
   "outputs": [
    {
     "data": {
      "text/html": [
       "<div>\n",
       "<style scoped>\n",
       "    .dataframe tbody tr th:only-of-type {\n",
       "        vertical-align: middle;\n",
       "    }\n",
       "\n",
       "    .dataframe tbody tr th {\n",
       "        vertical-align: top;\n",
       "    }\n",
       "\n",
       "    .dataframe thead th {\n",
       "        text-align: right;\n",
       "    }\n",
       "</style>\n",
       "<table border=\"1\" class=\"dataframe\">\n",
       "  <thead>\n",
       "    <tr style=\"text-align: right;\">\n",
       "      <th></th>\n",
       "      <th>driverid</th>\n",
       "      <th>totmiles</th>\n",
       "    </tr>\n",
       "  </thead>\n",
       "  <tbody>\n",
       "    <tr>\n",
       "      <th>0</th>\n",
       "      <td>A1</td>\n",
       "      <td>628507</td>\n",
       "    </tr>\n",
       "    <tr>\n",
       "      <th>1</th>\n",
       "      <td>A10</td>\n",
       "      <td>675377</td>\n",
       "    </tr>\n",
       "    <tr>\n",
       "      <th>2</th>\n",
       "      <td>A100</td>\n",
       "      <td>634338</td>\n",
       "    </tr>\n",
       "    <tr>\n",
       "      <th>3</th>\n",
       "      <td>A11</td>\n",
       "      <td>652452</td>\n",
       "    </tr>\n",
       "    <tr>\n",
       "      <th>4</th>\n",
       "      <td>A12</td>\n",
       "      <td>668241</td>\n",
       "    </tr>\n",
       "  </tbody>\n",
       "</table>\n",
       "</div>"
      ],
      "text/plain": [
       "  driverid  totmiles\n",
       "0       A1    628507\n",
       "1      A10    675377\n",
       "2     A100    634338\n",
       "3      A11    652452\n",
       "4      A12    668241"
      ]
     },
     "execution_count": 108,
     "metadata": {},
     "output_type": "execute_result"
    }
   ],
   "source": [
    "drivermileage.head()"
   ]
  },
  {
   "cell_type": "markdown",
   "id": "8397c105-c945-4f19-861a-c9dbef9a9fb2",
   "metadata": {},
   "source": [
    "### What Business Question Do we Answer (5 scenarios) ??\n",
    " - find the models which have the events registered to it\n",
    " - find out the most common events, try to pinpoint it to a location are the top locations \n",
    " - where do idling infractions take place\n",
    " - where do event infraction take place\n",
    " - forecasting/ predicting the risk => model type of car, number of prior events (plus category wise), totalmiles, avg velocity, event index, idling index"
   ]
  },
  {
   "cell_type": "code",
   "execution_count": 119,
   "id": "504dbfc3-326a-4727-9026-fd0c6f5835e4",
   "metadata": {
    "tags": []
   },
   "outputs": [
    {
     "name": "stdout",
     "output_type": "stream",
     "text": [
      "the type of events are ['normal' 'overspeed' 'unsafe following distance' 'lane departure'\n",
      " 'unsafe tail distance']\n"
     ]
    },
    {
     "data": {
      "text/plain": [
       "event\n",
       "normal                       7543\n",
       "lane departure                152\n",
       "unsafe following distance     150\n",
       "overspeed                      90\n",
       "unsafe tail distance           65\n",
       "Name: count, dtype: int64"
      ]
     },
     "execution_count": 119,
     "metadata": {},
     "output_type": "execute_result"
    }
   ],
   "source": [
    "'''\n",
    "Business Question 1 & 2\n",
    "'''\n",
    "event_types = geolocation[\"event\"].unique()\n",
    "print(\"the type of events are\", event_types)\n",
    "# The  types of offences/events are - (1.)\"Normal\", (2.)\"Overspeed\", (3.)\"Unsafe Following Distance\", (4.)\"Lane Departure\", (5.)\"Unsafe Tail Distance\"\n",
    "event_counts = geolocation[\"event\"].value_counts()\n",
    "event_counts\n",
    "# From our analysis we were able to infer that the most common type of offence is lane departure\n",
    "\n"
   ]
  },
  {
   "cell_type": "code",
   "execution_count": 155,
   "id": "276abc9b-6a44-45e5-97f0-c9d5d5722b51",
   "metadata": {
    "tags": []
   },
   "outputs": [],
   "source": [
    "geolocation[\"driverid\"] = geolocation[\"driverid\"].astype(str)\n",
    "\n"
   ]
  },
  {
   "cell_type": "code",
   "execution_count": 156,
   "id": "bc8fcb8b-9beb-4c49-b7d7-5c28f896418a",
   "metadata": {
    "tags": []
   },
   "outputs": [
    {
     "data": {
      "text/plain": [
       "truckid        object\n",
       "driverid       object\n",
       "event          object\n",
       "latitude      float64\n",
       "longitude     float64\n",
       "city           object\n",
       "state          object\n",
       "velocity        int32\n",
       "event_ind       int32\n",
       "idling_ind      int32\n",
       "dtype: object"
      ]
     },
     "execution_count": 156,
     "metadata": {},
     "output_type": "execute_result"
    }
   ],
   "source": [
    "geolocation.dtypes\n"
   ]
  },
  {
   "cell_type": "code",
   "execution_count": 157,
   "id": "ae0c845e-5d00-484a-939b-277aff0475e0",
   "metadata": {
    "tags": []
   },
   "outputs": [],
   "source": [
    "truck_mg[\"driverid\"] = truck_mg[\"driverid\"].astype(str)"
   ]
  },
  {
   "cell_type": "code",
   "execution_count": 161,
   "id": "93954862-b3ce-4fd1-b3ee-fa0d594cc83c",
   "metadata": {
    "tags": []
   },
   "outputs": [
    {
     "data": {
      "text/html": [
       "<div>\n",
       "<style scoped>\n",
       "    .dataframe tbody tr th:only-of-type {\n",
       "        vertical-align: middle;\n",
       "    }\n",
       "\n",
       "    .dataframe tbody tr th {\n",
       "        vertical-align: top;\n",
       "    }\n",
       "\n",
       "    .dataframe thead th {\n",
       "        text-align: right;\n",
       "    }\n",
       "</style>\n",
       "<table border=\"1\" class=\"dataframe\">\n",
       "  <thead>\n",
       "    <tr style=\"text-align: right;\">\n",
       "      <th></th>\n",
       "      <th>truckid_x</th>\n",
       "      <th>driverid</th>\n",
       "      <th>event</th>\n",
       "      <th>latitude</th>\n",
       "      <th>longitude</th>\n",
       "      <th>city</th>\n",
       "      <th>state</th>\n",
       "      <th>velocity</th>\n",
       "      <th>event_ind</th>\n",
       "      <th>idling_ind</th>\n",
       "      <th>truckid_y</th>\n",
       "      <th>model</th>\n",
       "      <th>Tdate</th>\n",
       "      <th>miles</th>\n",
       "      <th>gas</th>\n",
       "    </tr>\n",
       "  </thead>\n",
       "  <tbody>\n",
       "    <tr>\n",
       "      <th>0</th>\n",
       "      <td>A54</td>\n",
       "      <td>A54</td>\n",
       "      <td>normal</td>\n",
       "      <td>38.440467</td>\n",
       "      <td>-122.714431</td>\n",
       "      <td>Santa Rosa</td>\n",
       "      <td>California</td>\n",
       "      <td>17</td>\n",
       "      <td>0</td>\n",
       "      <td>0</td>\n",
       "      <td>A54</td>\n",
       "      <td>Western Star</td>\n",
       "      <td>15/06/2015</td>\n",
       "      <td>14969</td>\n",
       "      <td>2760</td>\n",
       "    </tr>\n",
       "    <tr>\n",
       "      <th>1</th>\n",
       "      <td>A54</td>\n",
       "      <td>A54</td>\n",
       "      <td>normal</td>\n",
       "      <td>35.373292</td>\n",
       "      <td>-119.018712</td>\n",
       "      <td>Bakersfield</td>\n",
       "      <td>California</td>\n",
       "      <td>19</td>\n",
       "      <td>0</td>\n",
       "      <td>0</td>\n",
       "      <td>A54</td>\n",
       "      <td>Western Star</td>\n",
       "      <td>15/06/2015</td>\n",
       "      <td>14969</td>\n",
       "      <td>2760</td>\n",
       "    </tr>\n",
       "    <tr>\n",
       "      <th>2</th>\n",
       "      <td>A54</td>\n",
       "      <td>A54</td>\n",
       "      <td>normal</td>\n",
       "      <td>39.230151</td>\n",
       "      <td>-121.136075</td>\n",
       "      <td>Rough and Ready</td>\n",
       "      <td>California</td>\n",
       "      <td>45</td>\n",
       "      <td>0</td>\n",
       "      <td>0</td>\n",
       "      <td>A54</td>\n",
       "      <td>Western Star</td>\n",
       "      <td>15/06/2015</td>\n",
       "      <td>14969</td>\n",
       "      <td>2760</td>\n",
       "    </tr>\n",
       "    <tr>\n",
       "      <th>3</th>\n",
       "      <td>A54</td>\n",
       "      <td>A54</td>\n",
       "      <td>normal</td>\n",
       "      <td>34.953034</td>\n",
       "      <td>-120.435719</td>\n",
       "      <td>Santa Maria</td>\n",
       "      <td>California</td>\n",
       "      <td>21</td>\n",
       "      <td>0</td>\n",
       "      <td>0</td>\n",
       "      <td>A54</td>\n",
       "      <td>Western Star</td>\n",
       "      <td>15/06/2015</td>\n",
       "      <td>14969</td>\n",
       "      <td>2760</td>\n",
       "    </tr>\n",
       "    <tr>\n",
       "      <th>4</th>\n",
       "      <td>A54</td>\n",
       "      <td>A54</td>\n",
       "      <td>normal</td>\n",
       "      <td>37.962146</td>\n",
       "      <td>-122.345526</td>\n",
       "      <td>San Pablo</td>\n",
       "      <td>California</td>\n",
       "      <td>53</td>\n",
       "      <td>0</td>\n",
       "      <td>0</td>\n",
       "      <td>A54</td>\n",
       "      <td>Western Star</td>\n",
       "      <td>15/06/2015</td>\n",
       "      <td>14969</td>\n",
       "      <td>2760</td>\n",
       "    </tr>\n",
       "  </tbody>\n",
       "</table>\n",
       "</div>"
      ],
      "text/plain": [
       "  truckid_x driverid   event   latitude   longitude             city   \n",
       "0       A54      A54  normal  38.440467 -122.714431       Santa Rosa  \\\n",
       "1       A54      A54  normal  35.373292 -119.018712      Bakersfield   \n",
       "2       A54      A54  normal  39.230151 -121.136075  Rough and Ready   \n",
       "3       A54      A54  normal  34.953034 -120.435719      Santa Maria   \n",
       "4       A54      A54  normal  37.962146 -122.345526        San Pablo   \n",
       "\n",
       "        state  velocity  event_ind  idling_ind truckid_y         model   \n",
       "0  California        17          0           0       A54  Western Star  \\\n",
       "1  California        19          0           0       A54  Western Star   \n",
       "2  California        45          0           0       A54  Western Star   \n",
       "3  California        21          0           0       A54  Western Star   \n",
       "4  California        53          0           0       A54  Western Star   \n",
       "\n",
       "        Tdate  miles   gas  \n",
       "0  15/06/2015  14969  2760  \n",
       "1  15/06/2015  14969  2760  \n",
       "2  15/06/2015  14969  2760  \n",
       "3  15/06/2015  14969  2760  \n",
       "4  15/06/2015  14969  2760  "
      ]
     },
     "execution_count": 161,
     "metadata": {},
     "output_type": "execute_result"
    }
   ],
   "source": [
    "result = pd.merge(geolocation, truck_mg, on = \"driverid\")\n",
    "result.head()"
   ]
  },
  {
   "cell_type": "code",
   "execution_count": 163,
   "id": "80b5142f-4d8a-4225-a2df-456954be47ff",
   "metadata": {
    "tags": []
   },
   "outputs": [
    {
     "data": {
      "text/plain": [
       "model\n",
       "Ford            1600\n",
       "Caterpillar     1520\n",
       "Peterbilt       1280\n",
       "Volvo            720\n",
       "Navistar         720\n",
       "Hino             560\n",
       "Kenworth         480\n",
       "Freightliner     400\n",
       "Oshkosh          320\n",
       "Western Star     240\n",
       "Crane            160\n",
       "Name: count, dtype: int64"
      ]
     },
     "execution_count": 163,
     "metadata": {},
     "output_type": "execute_result"
    }
   ],
   "source": [
    "result[\"model\"].value_counts()\n",
    "# Ford , Caterpillar, Peterbilt"
   ]
  },
  {
   "cell_type": "code",
   "execution_count": 173,
   "id": "563c8fdc-3226-4c9f-81cc-cc586413cf3a",
   "metadata": {
    "tags": []
   },
   "outputs": [
    {
     "data": {
      "text/plain": [
       "truckid_x      object\n",
       "driverid       object\n",
       "event          object\n",
       "latitude      float64\n",
       "longitude     float64\n",
       "city           object\n",
       "state          object\n",
       "velocity        int32\n",
       "event_ind       int32\n",
       "idling_ind      int32\n",
       "truckid_y      object\n",
       "model          object\n",
       "Tdate          object\n",
       "miles           int32\n",
       "gas             int32\n",
       "dtype: object"
      ]
     },
     "execution_count": 173,
     "metadata": {},
     "output_type": "execute_result"
    }
   ],
   "source": [
    "result.dtypes"
   ]
  },
  {
   "cell_type": "code",
   "execution_count": 175,
   "id": "cc576e88-3dc8-4c05-bb21-efd190404ccf",
   "metadata": {
    "tags": []
   },
   "outputs": [
    {
     "data": {
      "text/plain": [
       "truckid_x      object\n",
       "driverid       object\n",
       "event          object\n",
       "latitude      float64\n",
       "longitude     float64\n",
       "city           object\n",
       "state          object\n",
       "velocity        int32\n",
       "event_ind       int32\n",
       "idling_ind      int32\n",
       "truckid_y      object\n",
       "model          object\n",
       "Tdate          object\n",
       "miles           int32\n",
       "gas             int32\n",
       "dtype: object"
      ]
     },
     "execution_count": 175,
     "metadata": {},
     "output_type": "execute_result"
    }
   ],
   "source": [
    "result[\"event\"] = result[\"event\"].astype(str)\n",
    "result.dtypes"
   ]
  },
  {
   "cell_type": "code",
   "execution_count": 183,
   "id": "4014fb90-14cb-4a77-bd64-6dfcb148534b",
   "metadata": {
    "tags": []
   },
   "outputs": [
    {
     "data": {
      "text/plain": [
       "model\n",
       "Caterpillar     17\n",
       "Ford            15\n",
       "Peterbilt       13\n",
       "Navistar         9\n",
       "Volvo            8\n",
       "Oshkosh          7\n",
       "Western Star     6\n",
       "Hino             6\n",
       "Crane            4\n",
       "Freightliner     4\n",
       "Kenworth         1\n",
       "Name: count, dtype: int64"
      ]
     },
     "execution_count": 183,
     "metadata": {},
     "output_type": "execute_result"
    }
   ],
   "source": [
    "filtered_df = result[result[\"event\"] == \"overspeed\"]\n",
    "filtered_df[\"model\"].value_counts()\n",
    "# Overspeeding events happen the most for Caterpillar Model, even though there are more Ford cars"
   ]
  },
  {
   "cell_type": "code",
   "execution_count": 181,
   "id": "fb1cdc0d-66bc-473d-b077-ae8530bd1018",
   "metadata": {
    "tags": []
   },
   "outputs": [
    {
     "data": {
      "text/plain": [
       "city\n",
       "Santa Rosa       11\n",
       "Apple Valley      7\n",
       "Arbuckle          5\n",
       "San Pablo         5\n",
       "Willits           4\n",
       "Markleeville      4\n",
       "Lodi              4\n",
       "Martinez          3\n",
       "San Fernando      3\n",
       "Modesto           3\n",
       "San Diego         3\n",
       "Bakersfield       3\n",
       "San Quentin       3\n",
       "Stockton          3\n",
       "Holtville         2\n",
       "La Palma          2\n",
       "Napa              2\n",
       "Redding           2\n",
       "Mariposa          2\n",
       "San Francisco     2\n",
       "Roseville         2\n",
       "Glendora          2\n",
       "Cloverdale        1\n",
       "Palmdale          1\n",
       "Jacumba           1\n",
       "Marysville        1\n",
       "Santa Paula       1\n",
       "Antelope          1\n",
       "San Dimas         1\n",
       "Fresno            1\n",
       "Palo Cedro        1\n",
       "La Quinta         1\n",
       "Knightsen         1\n",
       "Occidental        1\n",
       "Ukiah             1\n",
       "Name: count, dtype: int64"
      ]
     },
     "execution_count": 181,
     "metadata": {},
     "output_type": "execute_result"
    }
   ],
   "source": [
    "filtered_df[\"city\"].value_counts()\n",
    "# Overspeeding events happen the most in Sata Rosa"
   ]
  },
  {
   "cell_type": "code",
   "execution_count": 186,
   "id": "5e5eb285-3385-41bb-90df-c1208db0ad1b",
   "metadata": {
    "tags": []
   },
   "outputs": [
    {
     "data": {
      "text/plain": [
       "driverid\n",
       "A97    5\n",
       "A69    4\n",
       "A20    3\n",
       "A73    3\n",
       "A84    3\n",
       "A3     3\n",
       "A60    3\n",
       "A68    2\n",
       "A17    2\n",
       "A9     2\n",
       "A21    2\n",
       "A7     2\n",
       "A24    2\n",
       "A72    2\n",
       "A14    2\n",
       "A13    2\n",
       "A71    2\n",
       "A50    2\n",
       "A51    2\n",
       "A35    2\n",
       "A48    2\n",
       "A55    2\n",
       "A4     1\n",
       "A81    1\n",
       "A70    1\n",
       "A90    1\n",
       "A96    1\n",
       "A76    1\n",
       "A75    1\n",
       "A78    1\n",
       "A47    1\n",
       "A18    1\n",
       "A32    1\n",
       "A53    1\n",
       "A54    1\n",
       "A99    1\n",
       "A49    1\n",
       "A40    1\n",
       "A77    1\n",
       "A86    1\n",
       "A5     1\n",
       "A98    1\n",
       "A10    1\n",
       "A12    1\n",
       "A62    1\n",
       "A94    1\n",
       "A11    1\n",
       "A67    1\n",
       "A8     1\n",
       "A34    1\n",
       "A38    1\n",
       "A27    1\n",
       "A26    1\n",
       "A93    1\n",
       "A33    1\n",
       "A52    1\n",
       "A16    1\n",
       "A23    1\n",
       "Name: count, dtype: int64"
      ]
     },
     "execution_count": 186,
     "metadata": {},
     "output_type": "execute_result"
    }
   ],
   "source": [
    "filtered_df[\"driverid\"].value_counts()\n",
    "# A97 has the most cases of overspeeding"
   ]
  },
  {
   "cell_type": "code",
   "execution_count": 187,
   "id": "8eedcbac-cdf5-4033-a09f-b74e5e9d7ade",
   "metadata": {
    "tags": []
   },
   "outputs": [
    {
     "data": {
      "text/plain": [
       "model\n",
       "Ford            34\n",
       "Peterbilt       30\n",
       "Caterpillar     21\n",
       "Volvo           14\n",
       "Hino            13\n",
       "Oshkosh         10\n",
       "Navistar         9\n",
       "Kenworth         8\n",
       "Freightliner     7\n",
       "Crane            4\n",
       "Name: count, dtype: int64"
      ]
     },
     "execution_count": 187,
     "metadata": {},
     "output_type": "execute_result"
    }
   ],
   "source": [
    "filtered_df = result[result[\"event\"] == \"unsafe following distance\"]\n",
    "filtered_df[\"model\"].value_counts()\n",
    "# ford has the most instances of unsafe following distance"
   ]
  },
  {
   "cell_type": "code",
   "execution_count": 188,
   "id": "ecb76cd0-a40b-488e-90b1-921c5ddf39f6",
   "metadata": {
    "tags": []
   },
   "outputs": [
    {
     "data": {
      "text/plain": [
       "city\n",
       "Santa Rosa         15\n",
       "Willits            13\n",
       "Apple Valley        6\n",
       "Antelope            6\n",
       "Palo Alto           5\n",
       "Arbuckle            5\n",
       "Jacumba             5\n",
       "Klamath             5\n",
       "Homeland            4\n",
       "San Dimas           4\n",
       "Palo Cedro          4\n",
       "Stockton            4\n",
       "San Fernando        4\n",
       "La Palma            3\n",
       "San Diego           3\n",
       "Mariposa            3\n",
       "Irvine              3\n",
       "San Quentin         3\n",
       "Goleta              3\n",
       "Marysville          3\n",
       "San Pablo           3\n",
       "Roseville           3\n",
       "Isleton             3\n",
       "Aptos               2\n",
       "Glen Ellen          2\n",
       "Bakersfield         2\n",
       "Redding             2\n",
       "Napa                2\n",
       "Martinez            2\n",
       "Ukiah               2\n",
       "Palmdale            2\n",
       "Lodi                2\n",
       "Gilroy              2\n",
       "Occidental          2\n",
       "La Puente           2\n",
       "Rough and Ready     2\n",
       "Modesto             1\n",
       "Santa Maria         1\n",
       "Markleeville        1\n",
       "Santa Monica        1\n",
       "Knights Landing     1\n",
       "Knightsen           1\n",
       "Fresno              1\n",
       "San Francisco       1\n",
       "La Quinta           1\n",
       "Santa Paula         1\n",
       "Oceanside           1\n",
       "Oceano              1\n",
       "Glendora            1\n",
       "Cloverdale          1\n",
       "Name: count, dtype: int64"
      ]
     },
     "execution_count": 188,
     "metadata": {},
     "output_type": "execute_result"
    }
   ],
   "source": [
    "filtered_df[\"city\"].value_counts()"
   ]
  },
  {
   "cell_type": "code",
   "execution_count": 190,
   "id": "5eed791e-18c5-4c7f-b359-3c78b4022ce7",
   "metadata": {
    "tags": []
   },
   "outputs": [
    {
     "data": {
      "text/plain": [
       "driverid\n",
       "A86    5\n",
       "A73    5\n",
       "A81    4\n",
       "A92    4\n",
       "A59    4\n",
       "      ..\n",
       "A61    1\n",
       "A34    1\n",
       "A21    1\n",
       "A9     1\n",
       "A42    1\n",
       "Name: count, Length: 79, dtype: int64"
      ]
     },
     "execution_count": 190,
     "metadata": {},
     "output_type": "execute_result"
    }
   ],
   "source": [
    "filtered_df[\"driverid\"].value_counts()\n",
    "# driver A86 has the most cases of unsafe following distances"
   ]
  },
  {
   "cell_type": "code",
   "execution_count": 198,
   "id": "9fb56241-1a7b-4c8e-94bd-15d7e0c9a60d",
   "metadata": {
    "tags": []
   },
   "outputs": [
    {
     "data": {
      "text/plain": [
       "model\n",
       "Caterpillar     32\n",
       "Ford            30\n",
       "Peterbilt       23\n",
       "Volvo           12\n",
       "Kenworth        11\n",
       "Hino            10\n",
       "Navistar        10\n",
       "Freightliner    10\n",
       "Oshkosh          8\n",
       "Western Star     5\n",
       "Crane            1\n",
       "Name: count, dtype: int64"
      ]
     },
     "execution_count": 198,
     "metadata": {},
     "output_type": "execute_result"
    }
   ],
   "source": [
    "filtered_df = result[result[\"event\"] == \"lane departure\"]\n",
    "filtered_df[\"model\"].value_counts()\n",
    "# Caterpillar has the most cases of lane departures"
   ]
  },
  {
   "cell_type": "code",
   "execution_count": 201,
   "id": "1fce5336-ce9d-45a7-ab64-8c63e682a129",
   "metadata": {
    "tags": []
   },
   "outputs": [
    {
     "data": {
      "text/plain": [
       "driverid\n",
       "A97    11\n",
       "A95     5\n",
       "A36     4\n",
       "A4      4\n",
       "A75     4\n",
       "       ..\n",
       "A20     1\n",
       "A59     1\n",
       "A32     1\n",
       "A84     1\n",
       "A42     1\n",
       "Name: count, Length: 81, dtype: int64"
      ]
     },
     "execution_count": 201,
     "metadata": {},
     "output_type": "execute_result"
    }
   ],
   "source": [
    "filtered_df[\"driverid\"].value_counts()\n",
    "# driver  A97 has the most cases of lane departures "
   ]
  },
  {
   "cell_type": "code",
   "execution_count": 203,
   "id": "121d1872-8159-4a11-9a38-4c648a632822",
   "metadata": {
    "tags": []
   },
   "outputs": [
    {
     "data": {
      "text/plain": [
       "city\n",
       "Santa Rosa         15\n",
       "Arbuckle           10\n",
       "Willits             9\n",
       "Apple Valley        8\n",
       "Stockton            7\n",
       "San Dimas           6\n",
       "Antelope            6\n",
       "Marysville          4\n",
       "La Palma            4\n",
       "Bakersfield         4\n",
       "Modesto             4\n",
       "San Francisco       4\n",
       "Ukiah               4\n",
       "Rough and Ready     3\n",
       "San Pablo           3\n",
       "Isleton             3\n",
       "Redding             3\n",
       "Hollister           3\n",
       "Cloverdale          3\n",
       "Palmdale            3\n",
       "Kneeland            3\n",
       "Palo Alto           2\n",
       "Napa                2\n",
       "Mariposa            2\n",
       "Gilroy              2\n",
       "San Fernando        2\n",
       "San Quentin         2\n",
       "Knights Landing     2\n",
       "Glen Ellen          2\n",
       "Irvine              2\n",
       "Knightsen           2\n",
       "La Quinta           2\n",
       "Martinez            2\n",
       "Aptos               2\n",
       "La Puente           1\n",
       "Santa Monica        1\n",
       "Occidental          1\n",
       "Ojai                1\n",
       "Fresno              1\n",
       "Oceano              1\n",
       "Palo Cedro          1\n",
       "Holtville           1\n",
       "Lodi                1\n",
       "Goleta              1\n",
       "Glendora            1\n",
       "San Diego           1\n",
       "Oceanside           1\n",
       "Jacumba             1\n",
       "Homeland            1\n",
       "Santa Maria         1\n",
       "Santa Paula         1\n",
       "Name: count, dtype: int64"
      ]
     },
     "execution_count": 203,
     "metadata": {},
     "output_type": "execute_result"
    }
   ],
   "source": [
    "filtered_df[\"city\"].value_counts()\n",
    "# santa rosa has the most cases of lane departure"
   ]
  },
  {
   "cell_type": "code",
   "execution_count": 204,
   "id": "81c6bb1d-8e77-491e-a403-8403a0210b9e",
   "metadata": {
    "tags": []
   },
   "outputs": [
    {
     "data": {
      "text/plain": [
       "model\n",
       "Peterbilt       15\n",
       "Ford            10\n",
       "Caterpillar     10\n",
       "Hino             7\n",
       "Kenworth         5\n",
       "Volvo            5\n",
       "Navistar         5\n",
       "Freightliner     4\n",
       "Crane            2\n",
       "Western Star     1\n",
       "Oshkosh          1\n",
       "Name: count, dtype: int64"
      ]
     },
     "execution_count": 204,
     "metadata": {},
     "output_type": "execute_result"
    }
   ],
   "source": [
    "filtered_df = result[result[\"event\"] == \"unsafe tail distance\"]\n",
    "filtered_df[\"model\"].value_counts()"
   ]
  },
  {
   "cell_type": "code",
   "execution_count": 205,
   "id": "044d1b66-b80d-49a0-afd7-3569dc6aa21c",
   "metadata": {
    "tags": []
   },
   "outputs": [
    {
     "data": {
      "text/plain": [
       "driverid\n",
       "A97     3\n",
       "A93     3\n",
       "A5      3\n",
       "A66     2\n",
       "A44     2\n",
       "A70     2\n",
       "A85     2\n",
       "A38     2\n",
       "A34     2\n",
       "A9      2\n",
       "A80     2\n",
       "A95     2\n",
       "A53     1\n",
       "A76     1\n",
       "A64     1\n",
       "A3      1\n",
       "A45     1\n",
       "A1      1\n",
       "A25     1\n",
       "A14     1\n",
       "A21     1\n",
       "A87     1\n",
       "A74     1\n",
       "A88     1\n",
       "A61     1\n",
       "A47     1\n",
       "A18     1\n",
       "A20     1\n",
       "A99     1\n",
       "A35     1\n",
       "A31     1\n",
       "A71     1\n",
       "A50     1\n",
       "A51     1\n",
       "A77     1\n",
       "A89     1\n",
       "A48     1\n",
       "A98     1\n",
       "A12     1\n",
       "A43     1\n",
       "A68     1\n",
       "A7      1\n",
       "A37     1\n",
       "A27     1\n",
       "A58     1\n",
       "A69     1\n",
       "A100    1\n",
       "A15     1\n",
       "A40     1\n",
       "A23     1\n",
       "Name: count, dtype: int64"
      ]
     },
     "execution_count": 205,
     "metadata": {},
     "output_type": "execute_result"
    }
   ],
   "source": [
    "filtered_df[\"driverid\"].value_counts()"
   ]
  },
  {
   "cell_type": "code",
   "execution_count": 206,
   "id": "c4cd8b81-6fca-4ede-9245-d6a8222099b9",
   "metadata": {
    "tags": []
   },
   "outputs": [
    {
     "data": {
      "text/plain": [
       "city\n",
       "Santa Rosa       12\n",
       "Antelope          6\n",
       "Aptos             5\n",
       "San Pablo         4\n",
       "Apple Valley      4\n",
       "Modesto           4\n",
       "San Francisco     3\n",
       "Knightsen         2\n",
       "San Dimas         2\n",
       "Isleton           2\n",
       "Willits           2\n",
       "San Fernando      2\n",
       "Markleeville      2\n",
       "Glendora          2\n",
       "Oceanside         1\n",
       "Santa Monica      1\n",
       "Goleta            1\n",
       "San Diego         1\n",
       "Irvine            1\n",
       "Redding           1\n",
       "Lodi              1\n",
       "La Palma          1\n",
       "Arbuckle          1\n",
       "Ojai              1\n",
       "Glen Ellen        1\n",
       "Palo Cedro        1\n",
       "Kneeland          1\n",
       "Name: count, dtype: int64"
      ]
     },
     "execution_count": 206,
     "metadata": {},
     "output_type": "execute_result"
    }
   ],
   "source": [
    "filtered_df[\"city\"].value_counts()"
   ]
  },
  {
   "cell_type": "code",
   "execution_count": 208,
   "id": "49f3c6fc-241a-40be-bb2a-f668a5391692",
   "metadata": {
    "tags": []
   },
   "outputs": [
    {
     "data": {
      "text/plain": [
       "city\n",
       "Santa Rosa         53\n",
       "Willits            28\n",
       "Apple Valley       25\n",
       "Antelope           19\n",
       "Arbuckle           18\n",
       "San Pablo          15\n",
       "Stockton           14\n",
       "San Dimas          12\n",
       "Modesto            11\n",
       "San Fernando       11\n",
       "San Francisco      10\n",
       "La Palma           10\n",
       "Aptos               9\n",
       "Bakersfield         9\n",
       "Isleton             8\n",
       "San Quentin         8\n",
       "Redding             8\n",
       "Lodi                8\n",
       "Marysville          8\n",
       "San Diego           8\n",
       "Jacumba             7\n",
       "Palo Cedro          7\n",
       "Ukiah               7\n",
       "Palo Alto           7\n",
       "Mariposa            7\n",
       "Martinez            7\n",
       "Markleeville        7\n",
       "Knightsen           6\n",
       "Irvine              6\n",
       "Palmdale            6\n",
       "Glendora            6\n",
       "Napa                6\n",
       "Goleta              5\n",
       "Homeland            5\n",
       "Cloverdale          5\n",
       "Klamath             5\n",
       "Rough and Ready     5\n",
       "Glen Ellen          5\n",
       "Roseville           5\n",
       "Gilroy              4\n",
       "Occidental          4\n",
       "Kneeland            4\n",
       "La Quinta           4\n",
       "Fresno              3\n",
       "Santa Paula         3\n",
       "Santa Monica        3\n",
       "Oceanside           3\n",
       "Knights Landing     3\n",
       "Holtville           3\n",
       "La Puente           3\n",
       "Hollister           2\n",
       "Oceano              2\n",
       "Santa Maria         2\n",
       "Ojai                2\n",
       "Name: count, dtype: int64"
      ]
     },
     "execution_count": 208,
     "metadata": {},
     "output_type": "execute_result"
    }
   ],
   "source": [
    "'''\n",
    "Business Question 3\n",
    "'''\n",
    "filtered_df = result[result[\"event_ind\"] == 1]\n",
    "filtered_df[\"city\"].value_counts()"
   ]
  },
  {
   "cell_type": "code",
   "execution_count": 209,
   "id": "9daab481-5ed8-45e6-851f-7550214a9ec8",
   "metadata": {
    "tags": []
   },
   "outputs": [
    {
     "data": {
      "text/plain": [
       "model\n",
       "Ford            89\n",
       "Peterbilt       81\n",
       "Caterpillar     74\n",
       "Volvo           39\n",
       "Hino            36\n",
       "Navistar        33\n",
       "Oshkosh         26\n",
       "Kenworth        25\n",
       "Freightliner    25\n",
       "Western Star    12\n",
       "Crane           11\n",
       "Name: count, dtype: int64"
      ]
     },
     "execution_count": 209,
     "metadata": {},
     "output_type": "execute_result"
    }
   ],
   "source": [
    "filtered_df[\"model\"].value_counts()"
   ]
  },
  {
   "cell_type": "code",
   "execution_count": 210,
   "id": "cb03452f-76be-4753-93e1-383954e9e88f",
   "metadata": {
    "tags": []
   },
   "outputs": [
    {
     "data": {
      "text/plain": [
       "driverid\n",
       "A97    14\n",
       "A73    10\n",
       "A35     9\n",
       "A50     9\n",
       "A5      9\n",
       "       ..\n",
       "A65     1\n",
       "A2      1\n",
       "A6      1\n",
       "A39     1\n",
       "A79     1\n",
       "Name: count, Length: 99, dtype: int64"
      ]
     },
     "execution_count": 210,
     "metadata": {},
     "output_type": "execute_result"
    }
   ],
   "source": [
    "filtered_df[\"driverid\"].value_counts()"
   ]
  },
  {
   "cell_type": "code",
   "execution_count": 211,
   "id": "5ba5f27c-f94d-402a-8aef-c9323286be65",
   "metadata": {
    "tags": []
   },
   "outputs": [
    {
     "data": {
      "text/plain": [
       "model\n",
       "Ford            358\n",
       "Caterpillar     344\n",
       "Peterbilt       305\n",
       "Volvo           177\n",
       "Navistar        171\n",
       "Hino            131\n",
       "Kenworth        113\n",
       "Freightliner     89\n",
       "Oshkosh          64\n",
       "Western Star     52\n",
       "Crane            39\n",
       "Name: count, dtype: int64"
      ]
     },
     "execution_count": 211,
     "metadata": {},
     "output_type": "execute_result"
    }
   ],
   "source": [
    "'''\n",
    "Business Question 4\n",
    "'''\n",
    "filtered_df = result[result[\"idling_ind\"] == 1]\n",
    "filtered_df[\"model\"].value_counts()"
   ]
  },
  {
   "cell_type": "code",
   "execution_count": 212,
   "id": "514c6948-6ed6-461f-8c07-1045c1982de4",
   "metadata": {
    "tags": []
   },
   "outputs": [
    {
     "data": {
      "text/plain": [
       "driverid\n",
       "A94    28\n",
       "A63    28\n",
       "A72    27\n",
       "A35    26\n",
       "A79    25\n",
       "       ..\n",
       "A55    13\n",
       "A53    12\n",
       "A11    12\n",
       "A38    11\n",
       "A36     7\n",
       "Name: count, Length: 100, dtype: int64"
      ]
     },
     "execution_count": 212,
     "metadata": {},
     "output_type": "execute_result"
    }
   ],
   "source": [
    "filtered_df[\"driverid\"].value_counts()\n",
    "#driver A94 has the most events of idling"
   ]
  },
  {
   "cell_type": "code",
   "execution_count": 213,
   "id": "3b20cf4d-c612-4218-a8c4-ad1b08411f5f",
   "metadata": {
    "tags": []
   },
   "outputs": [
    {
     "data": {
      "text/plain": [
       "city\n",
       "Santa Rosa         235\n",
       "Willits            124\n",
       "Apple Valley        81\n",
       "Stockton            77\n",
       "Antelope            75\n",
       "Aptos               57\n",
       "San Fernando        51\n",
       "Arbuckle            47\n",
       "La Palma            45\n",
       "Lodi                42\n",
       "Jacumba             42\n",
       "San Pablo           41\n",
       "Palo Alto           41\n",
       "San Diego           40\n",
       "Palmdale            37\n",
       "Irvine              36\n",
       "San Francisco       36\n",
       "San Dimas           36\n",
       "Bakersfield         35\n",
       "Palo Cedro          35\n",
       "Isleton             34\n",
       "San Quentin         30\n",
       "Ojai                24\n",
       "Modesto             23\n",
       "Holtville           23\n",
       "Oceanside           22\n",
       "La Puente           22\n",
       "Napa                21\n",
       "Santa Monica        21\n",
       "Marysville          20\n",
       "Knightsen           19\n",
       "Klamath             19\n",
       "La Quinta           19\n",
       "Occidental          19\n",
       "Santa Maria         19\n",
       "Santa Paula         18\n",
       "Martinez            18\n",
       "Glen Ellen          18\n",
       "Hollister           18\n",
       "Mariposa            17\n",
       "Roseville           17\n",
       "Gilroy              16\n",
       "Fresno              16\n",
       "Kneeland            16\n",
       "Homeland            16\n",
       "Ukiah               15\n",
       "Glendora            15\n",
       "Redding             15\n",
       "Cloverdale          14\n",
       "Oceano              14\n",
       "Goleta              14\n",
       "Knights Landing     13\n",
       "Markleeville        13\n",
       "Rough and Ready     12\n",
       "Name: count, dtype: int64"
      ]
     },
     "execution_count": 213,
     "metadata": {},
     "output_type": "execute_result"
    }
   ],
   "source": [
    "filtered_df[\"city\"].value_counts()"
   ]
  },
  {
   "cell_type": "code",
   "execution_count": 214,
   "id": "076f2a56-430f-4cec-991b-6a42d4123b57",
   "metadata": {
    "tags": []
   },
   "outputs": [
    {
     "data": {
      "text/html": [
       "<div>\n",
       "<style scoped>\n",
       "    .dataframe tbody tr th:only-of-type {\n",
       "        vertical-align: middle;\n",
       "    }\n",
       "\n",
       "    .dataframe tbody tr th {\n",
       "        vertical-align: top;\n",
       "    }\n",
       "\n",
       "    .dataframe thead th {\n",
       "        text-align: right;\n",
       "    }\n",
       "</style>\n",
       "<table border=\"1\" class=\"dataframe\">\n",
       "  <thead>\n",
       "    <tr style=\"text-align: right;\">\n",
       "      <th></th>\n",
       "      <th>truckid_x</th>\n",
       "      <th>driverid</th>\n",
       "      <th>event</th>\n",
       "      <th>latitude</th>\n",
       "      <th>longitude</th>\n",
       "      <th>city</th>\n",
       "      <th>state</th>\n",
       "      <th>velocity</th>\n",
       "      <th>event_ind</th>\n",
       "      <th>idling_ind</th>\n",
       "      <th>truckid_y</th>\n",
       "      <th>model</th>\n",
       "      <th>Tdate</th>\n",
       "      <th>miles</th>\n",
       "      <th>gas</th>\n",
       "    </tr>\n",
       "  </thead>\n",
       "  <tbody>\n",
       "    <tr>\n",
       "      <th>0</th>\n",
       "      <td>A54</td>\n",
       "      <td>A54</td>\n",
       "      <td>normal</td>\n",
       "      <td>38.440467</td>\n",
       "      <td>-122.714431</td>\n",
       "      <td>Santa Rosa</td>\n",
       "      <td>California</td>\n",
       "      <td>17</td>\n",
       "      <td>0</td>\n",
       "      <td>0</td>\n",
       "      <td>A54</td>\n",
       "      <td>Western Star</td>\n",
       "      <td>15/06/2015</td>\n",
       "      <td>14969</td>\n",
       "      <td>2760</td>\n",
       "    </tr>\n",
       "    <tr>\n",
       "      <th>1</th>\n",
       "      <td>A54</td>\n",
       "      <td>A54</td>\n",
       "      <td>normal</td>\n",
       "      <td>35.373292</td>\n",
       "      <td>-119.018712</td>\n",
       "      <td>Bakersfield</td>\n",
       "      <td>California</td>\n",
       "      <td>19</td>\n",
       "      <td>0</td>\n",
       "      <td>0</td>\n",
       "      <td>A54</td>\n",
       "      <td>Western Star</td>\n",
       "      <td>15/06/2015</td>\n",
       "      <td>14969</td>\n",
       "      <td>2760</td>\n",
       "    </tr>\n",
       "    <tr>\n",
       "      <th>2</th>\n",
       "      <td>A54</td>\n",
       "      <td>A54</td>\n",
       "      <td>normal</td>\n",
       "      <td>39.230151</td>\n",
       "      <td>-121.136075</td>\n",
       "      <td>Rough and Ready</td>\n",
       "      <td>California</td>\n",
       "      <td>45</td>\n",
       "      <td>0</td>\n",
       "      <td>0</td>\n",
       "      <td>A54</td>\n",
       "      <td>Western Star</td>\n",
       "      <td>15/06/2015</td>\n",
       "      <td>14969</td>\n",
       "      <td>2760</td>\n",
       "    </tr>\n",
       "    <tr>\n",
       "      <th>3</th>\n",
       "      <td>A54</td>\n",
       "      <td>A54</td>\n",
       "      <td>normal</td>\n",
       "      <td>34.953034</td>\n",
       "      <td>-120.435719</td>\n",
       "      <td>Santa Maria</td>\n",
       "      <td>California</td>\n",
       "      <td>21</td>\n",
       "      <td>0</td>\n",
       "      <td>0</td>\n",
       "      <td>A54</td>\n",
       "      <td>Western Star</td>\n",
       "      <td>15/06/2015</td>\n",
       "      <td>14969</td>\n",
       "      <td>2760</td>\n",
       "    </tr>\n",
       "    <tr>\n",
       "      <th>4</th>\n",
       "      <td>A54</td>\n",
       "      <td>A54</td>\n",
       "      <td>normal</td>\n",
       "      <td>37.962146</td>\n",
       "      <td>-122.345526</td>\n",
       "      <td>San Pablo</td>\n",
       "      <td>California</td>\n",
       "      <td>53</td>\n",
       "      <td>0</td>\n",
       "      <td>0</td>\n",
       "      <td>A54</td>\n",
       "      <td>Western Star</td>\n",
       "      <td>15/06/2015</td>\n",
       "      <td>14969</td>\n",
       "      <td>2760</td>\n",
       "    </tr>\n",
       "  </tbody>\n",
       "</table>\n",
       "</div>"
      ],
      "text/plain": [
       "  truckid_x driverid   event   latitude   longitude             city   \n",
       "0       A54      A54  normal  38.440467 -122.714431       Santa Rosa  \\\n",
       "1       A54      A54  normal  35.373292 -119.018712      Bakersfield   \n",
       "2       A54      A54  normal  39.230151 -121.136075  Rough and Ready   \n",
       "3       A54      A54  normal  34.953034 -120.435719      Santa Maria   \n",
       "4       A54      A54  normal  37.962146 -122.345526        San Pablo   \n",
       "\n",
       "        state  velocity  event_ind  idling_ind truckid_y         model   \n",
       "0  California        17          0           0       A54  Western Star  \\\n",
       "1  California        19          0           0       A54  Western Star   \n",
       "2  California        45          0           0       A54  Western Star   \n",
       "3  California        21          0           0       A54  Western Star   \n",
       "4  California        53          0           0       A54  Western Star   \n",
       "\n",
       "        Tdate  miles   gas  \n",
       "0  15/06/2015  14969  2760  \n",
       "1  15/06/2015  14969  2760  \n",
       "2  15/06/2015  14969  2760  \n",
       "3  15/06/2015  14969  2760  \n",
       "4  15/06/2015  14969  2760  "
      ]
     },
     "execution_count": 214,
     "metadata": {},
     "output_type": "execute_result"
    }
   ],
   "source": [
    "result.head()"
   ]
  },
  {
   "cell_type": "code",
   "execution_count": 216,
   "id": "08f0b089-7ef6-4f2d-887d-36d8afb9f9ec",
   "metadata": {
    "tags": []
   },
   "outputs": [
    {
     "data": {
      "text/html": [
       "<div>\n",
       "<style scoped>\n",
       "    .dataframe tbody tr th:only-of-type {\n",
       "        vertical-align: middle;\n",
       "    }\n",
       "\n",
       "    .dataframe tbody tr th {\n",
       "        vertical-align: top;\n",
       "    }\n",
       "\n",
       "    .dataframe thead th {\n",
       "        text-align: right;\n",
       "    }\n",
       "</style>\n",
       "<table border=\"1\" class=\"dataframe\">\n",
       "  <thead>\n",
       "    <tr style=\"text-align: right;\">\n",
       "      <th></th>\n",
       "      <th>driverid</th>\n",
       "      <th>events</th>\n",
       "      <th>totmiles</th>\n",
       "      <th>riskfactor</th>\n",
       "    </tr>\n",
       "  </thead>\n",
       "  <tbody>\n",
       "    <tr>\n",
       "      <th>0</th>\n",
       "      <td>A1</td>\n",
       "      <td>3</td>\n",
       "      <td>628507</td>\n",
       "      <td>4.773216</td>\n",
       "    </tr>\n",
       "    <tr>\n",
       "      <th>1</th>\n",
       "      <td>A2</td>\n",
       "      <td>1</td>\n",
       "      <td>664543</td>\n",
       "      <td>1.504793</td>\n",
       "    </tr>\n",
       "    <tr>\n",
       "      <th>2</th>\n",
       "      <td>A3</td>\n",
       "      <td>6</td>\n",
       "      <td>639584</td>\n",
       "      <td>9.381098</td>\n",
       "    </tr>\n",
       "    <tr>\n",
       "      <th>3</th>\n",
       "      <td>A4</td>\n",
       "      <td>6</td>\n",
       "      <td>663289</td>\n",
       "      <td>9.045831</td>\n",
       "    </tr>\n",
       "    <tr>\n",
       "      <th>4</th>\n",
       "      <td>A5</td>\n",
       "      <td>9</td>\n",
       "      <td>676574</td>\n",
       "      <td>13.302314</td>\n",
       "    </tr>\n",
       "  </tbody>\n",
       "</table>\n",
       "</div>"
      ],
      "text/plain": [
       "  driverid  events  totmiles  riskfactor\n",
       "0       A1       3    628507    4.773216\n",
       "1       A2       1    664543    1.504793\n",
       "2       A3       6    639584    9.381098\n",
       "3       A4       6    663289    9.045831\n",
       "4       A5       9    676574   13.302314"
      ]
     },
     "execution_count": 216,
     "metadata": {},
     "output_type": "execute_result"
    }
   ],
   "source": [
    "risk_factor.head()"
   ]
  },
  {
   "cell_type": "code",
   "execution_count": 249,
   "id": "fd45042d-4a0e-4da4-bd50-b430e9133e9f",
   "metadata": {
    "tags": []
   },
   "outputs": [],
   "source": [
    "new_df = pd.DataFrame(result.groupby('driverid').agg({\n",
    "    'velocity': 'mean', # average velocity\n",
    "    'idling_ind': 'sum', # total number of idling_ind\n",
    "    'event_ind': 'sum', # total number of event_ind\n",
    "    'city': lambda x: x.value_counts().index[0], # most frequent city\n",
    "    'model': 'first', # model\n",
    "    'miles': 'mean', # average number of mile travelled\n",
    "    'gas': 'mean', # average number of gas\n",
    "    'event': lambda x: (x == 'overspeed').sum() # total number of overspeeding events\n",
    "}))\n",
    "new_df = new_df.reset_index()"
   ]
  },
  {
   "cell_type": "code",
   "execution_count": 250,
   "id": "ef66af46-93ed-48bc-9ba4-95267381349f",
   "metadata": {
    "tags": []
   },
   "outputs": [
    {
     "data": {
      "text/html": [
       "<div>\n",
       "<style scoped>\n",
       "    .dataframe tbody tr th:only-of-type {\n",
       "        vertical-align: middle;\n",
       "    }\n",
       "\n",
       "    .dataframe tbody tr th {\n",
       "        vertical-align: top;\n",
       "    }\n",
       "\n",
       "    .dataframe thead th {\n",
       "        text-align: right;\n",
       "    }\n",
       "</style>\n",
       "<table border=\"1\" class=\"dataframe\">\n",
       "  <thead>\n",
       "    <tr style=\"text-align: right;\">\n",
       "      <th></th>\n",
       "      <th>driverid</th>\n",
       "      <th>velocity</th>\n",
       "      <th>idling_ind</th>\n",
       "      <th>event_ind</th>\n",
       "      <th>city</th>\n",
       "      <th>model</th>\n",
       "      <th>miles</th>\n",
       "      <th>gas</th>\n",
       "      <th>event</th>\n",
       "    </tr>\n",
       "  </thead>\n",
       "  <tbody>\n",
       "    <tr>\n",
       "      <th>0</th>\n",
       "      <td>A1</td>\n",
       "      <td>37.4500</td>\n",
       "      <td>14</td>\n",
       "      <td>3</td>\n",
       "      <td>Palmdale</td>\n",
       "      <td>Freightliner</td>\n",
       "      <td>9217.0</td>\n",
       "      <td>1914.0</td>\n",
       "      <td>0</td>\n",
       "    </tr>\n",
       "    <tr>\n",
       "      <th>1</th>\n",
       "      <td>A10</td>\n",
       "      <td>31.7625</td>\n",
       "      <td>21</td>\n",
       "      <td>6</td>\n",
       "      <td>Palo Alto</td>\n",
       "      <td>Peterbilt</td>\n",
       "      <td>13699.0</td>\n",
       "      <td>2583.0</td>\n",
       "      <td>1</td>\n",
       "    </tr>\n",
       "    <tr>\n",
       "      <th>2</th>\n",
       "      <td>A100</td>\n",
       "      <td>30.3625</td>\n",
       "      <td>24</td>\n",
       "      <td>4</td>\n",
       "      <td>Santa Rosa</td>\n",
       "      <td>Peterbilt</td>\n",
       "      <td>13019.0</td>\n",
       "      <td>2329.0</td>\n",
       "      <td>0</td>\n",
       "    </tr>\n",
       "    <tr>\n",
       "      <th>3</th>\n",
       "      <td>A11</td>\n",
       "      <td>33.8375</td>\n",
       "      <td>12</td>\n",
       "      <td>5</td>\n",
       "      <td>Santa Rosa</td>\n",
       "      <td>Peterbilt</td>\n",
       "      <td>12447.0</td>\n",
       "      <td>2596.0</td>\n",
       "      <td>1</td>\n",
       "    </tr>\n",
       "    <tr>\n",
       "      <th>4</th>\n",
       "      <td>A12</td>\n",
       "      <td>35.3000</td>\n",
       "      <td>20</td>\n",
       "      <td>5</td>\n",
       "      <td>Santa Rosa</td>\n",
       "      <td>Caterpillar</td>\n",
       "      <td>10006.0</td>\n",
       "      <td>2055.0</td>\n",
       "      <td>1</td>\n",
       "    </tr>\n",
       "  </tbody>\n",
       "</table>\n",
       "</div>"
      ],
      "text/plain": [
       "  driverid  velocity  idling_ind  event_ind        city         model   \n",
       "0       A1   37.4500          14          3    Palmdale  Freightliner  \\\n",
       "1      A10   31.7625          21          6   Palo Alto     Peterbilt   \n",
       "2     A100   30.3625          24          4  Santa Rosa     Peterbilt   \n",
       "3      A11   33.8375          12          5  Santa Rosa     Peterbilt   \n",
       "4      A12   35.3000          20          5  Santa Rosa   Caterpillar   \n",
       "\n",
       "     miles     gas  event  \n",
       "0   9217.0  1914.0      0  \n",
       "1  13699.0  2583.0      1  \n",
       "2  13019.0  2329.0      0  \n",
       "3  12447.0  2596.0      1  \n",
       "4  10006.0  2055.0      1  "
      ]
     },
     "execution_count": 250,
     "metadata": {},
     "output_type": "execute_result"
    }
   ],
   "source": [
    "new_df.head()"
   ]
  },
  {
   "cell_type": "code",
   "execution_count": 251,
   "id": "27d4c0e3-463b-4364-abf7-114b137fca14",
   "metadata": {
    "tags": []
   },
   "outputs": [
    {
     "data": {
      "text/plain": [
       "Index(['driverid', 'velocity', 'idling_ind', 'event_ind', 'city', 'model',\n",
       "       'miles', 'gas', 'event'],\n",
       "      dtype='object')"
      ]
     },
     "execution_count": 251,
     "metadata": {},
     "output_type": "execute_result"
    }
   ],
   "source": [
    "new_df.columns"
   ]
  },
  {
   "cell_type": "code",
   "execution_count": 252,
   "id": "e457d53e-d97d-49e2-a52c-28fb10cef3ce",
   "metadata": {
    "tags": []
   },
   "outputs": [],
   "source": [
    "# rename columns for clarity\n",
    "new_df.columns = [ 'driverid', 'average_velocity', 'total_idling_ind', 'total_event_ind', \n",
    "                  'most_frequent_city', 'model', 'average_miles', 'average_gas', 'total_overspeed_events']"
   ]
  },
  {
   "cell_type": "code",
   "execution_count": 253,
   "id": "aecb1e75-97ff-490a-9c2e-7a67ed3083ea",
   "metadata": {
    "tags": []
   },
   "outputs": [
    {
     "data": {
      "text/html": [
       "<div>\n",
       "<style scoped>\n",
       "    .dataframe tbody tr th:only-of-type {\n",
       "        vertical-align: middle;\n",
       "    }\n",
       "\n",
       "    .dataframe tbody tr th {\n",
       "        vertical-align: top;\n",
       "    }\n",
       "\n",
       "    .dataframe thead th {\n",
       "        text-align: right;\n",
       "    }\n",
       "</style>\n",
       "<table border=\"1\" class=\"dataframe\">\n",
       "  <thead>\n",
       "    <tr style=\"text-align: right;\">\n",
       "      <th></th>\n",
       "      <th>driverid</th>\n",
       "      <th>average_velocity</th>\n",
       "      <th>total_idling_ind</th>\n",
       "      <th>total_event_ind</th>\n",
       "      <th>most_frequent_city</th>\n",
       "      <th>model</th>\n",
       "      <th>average_miles</th>\n",
       "      <th>average_gas</th>\n",
       "      <th>total_overspeed_events</th>\n",
       "    </tr>\n",
       "  </thead>\n",
       "  <tbody>\n",
       "    <tr>\n",
       "      <th>95</th>\n",
       "      <td>A95</td>\n",
       "      <td>32.3250</td>\n",
       "      <td>23</td>\n",
       "      <td>8</td>\n",
       "      <td>Santa Rosa</td>\n",
       "      <td>Peterbilt</td>\n",
       "      <td>14670.0</td>\n",
       "      <td>3328.0</td>\n",
       "      <td>0</td>\n",
       "    </tr>\n",
       "    <tr>\n",
       "      <th>96</th>\n",
       "      <td>A96</td>\n",
       "      <td>34.1750</td>\n",
       "      <td>18</td>\n",
       "      <td>2</td>\n",
       "      <td>Santa Rosa</td>\n",
       "      <td>Peterbilt</td>\n",
       "      <td>12738.0</td>\n",
       "      <td>2637.0</td>\n",
       "      <td>1</td>\n",
       "    </tr>\n",
       "    <tr>\n",
       "      <th>97</th>\n",
       "      <td>A97</td>\n",
       "      <td>37.6125</td>\n",
       "      <td>19</td>\n",
       "      <td>14</td>\n",
       "      <td>Santa Rosa</td>\n",
       "      <td>Caterpillar</td>\n",
       "      <td>13489.0</td>\n",
       "      <td>2425.0</td>\n",
       "      <td>5</td>\n",
       "    </tr>\n",
       "    <tr>\n",
       "      <th>98</th>\n",
       "      <td>A98</td>\n",
       "      <td>39.2375</td>\n",
       "      <td>16</td>\n",
       "      <td>6</td>\n",
       "      <td>Jacumba</td>\n",
       "      <td>Volvo</td>\n",
       "      <td>10732.0</td>\n",
       "      <td>2238.0</td>\n",
       "      <td>1</td>\n",
       "    </tr>\n",
       "    <tr>\n",
       "      <th>99</th>\n",
       "      <td>A99</td>\n",
       "      <td>38.6250</td>\n",
       "      <td>17</td>\n",
       "      <td>4</td>\n",
       "      <td>Santa Rosa</td>\n",
       "      <td>Peterbilt</td>\n",
       "      <td>13912.0</td>\n",
       "      <td>2720.0</td>\n",
       "      <td>1</td>\n",
       "    </tr>\n",
       "  </tbody>\n",
       "</table>\n",
       "</div>"
      ],
      "text/plain": [
       "   driverid  average_velocity  total_idling_ind  total_event_ind   \n",
       "95      A95           32.3250                23                8  \\\n",
       "96      A96           34.1750                18                2   \n",
       "97      A97           37.6125                19               14   \n",
       "98      A98           39.2375                16                6   \n",
       "99      A99           38.6250                17                4   \n",
       "\n",
       "   most_frequent_city        model  average_miles  average_gas   \n",
       "95         Santa Rosa    Peterbilt        14670.0       3328.0  \\\n",
       "96         Santa Rosa    Peterbilt        12738.0       2637.0   \n",
       "97         Santa Rosa  Caterpillar        13489.0       2425.0   \n",
       "98            Jacumba        Volvo        10732.0       2238.0   \n",
       "99         Santa Rosa    Peterbilt        13912.0       2720.0   \n",
       "\n",
       "    total_overspeed_events  \n",
       "95                       0  \n",
       "96                       1  \n",
       "97                       5  \n",
       "98                       1  \n",
       "99                       1  "
      ]
     },
     "execution_count": 253,
     "metadata": {},
     "output_type": "execute_result"
    }
   ],
   "source": [
    "new_df.tail()"
   ]
  },
  {
   "cell_type": "code",
   "execution_count": 254,
   "id": "c50e5c7d-7d9a-4078-8f6f-fb619fb151ce",
   "metadata": {
    "tags": []
   },
   "outputs": [
    {
     "data": {
      "text/plain": [
       "driverid                   object\n",
       "average_velocity          float64\n",
       "total_idling_ind            int32\n",
       "total_event_ind             int32\n",
       "most_frequent_city         object\n",
       "model                      object\n",
       "average_miles             float64\n",
       "average_gas               float64\n",
       "total_overspeed_events      int64\n",
       "dtype: object"
      ]
     },
     "execution_count": 254,
     "metadata": {},
     "output_type": "execute_result"
    }
   ],
   "source": [
    "new_df.dtypes"
   ]
  },
  {
   "cell_type": "code",
   "execution_count": 259,
   "id": "aadb4d25-4326-451b-b163-9c1a096b3b06",
   "metadata": {
    "tags": []
   },
   "outputs": [],
   "source": [
    "new_df[\"driverid\"] = new_df[\"driverid\"].astype(str)\n",
    "result[\"driverid\"] = result[\"driverid\"].astype(str)"
   ]
  },
  {
   "cell_type": "code",
   "execution_count": 257,
   "id": "d2386734-ebc8-4b7e-9837-2b2b625166ea",
   "metadata": {
    "tags": []
   },
   "outputs": [
    {
     "data": {
      "text/html": [
       "<div>\n",
       "<style scoped>\n",
       "    .dataframe tbody tr th:only-of-type {\n",
       "        vertical-align: middle;\n",
       "    }\n",
       "\n",
       "    .dataframe tbody tr th {\n",
       "        vertical-align: top;\n",
       "    }\n",
       "\n",
       "    .dataframe thead th {\n",
       "        text-align: right;\n",
       "    }\n",
       "</style>\n",
       "<table border=\"1\" class=\"dataframe\">\n",
       "  <thead>\n",
       "    <tr style=\"text-align: right;\">\n",
       "      <th></th>\n",
       "      <th>driverid</th>\n",
       "      <th>average_velocity</th>\n",
       "      <th>total_idling_ind</th>\n",
       "      <th>total_event_ind</th>\n",
       "      <th>most_frequent_city</th>\n",
       "      <th>model</th>\n",
       "      <th>average_miles</th>\n",
       "      <th>average_gas</th>\n",
       "      <th>total_overspeed_events</th>\n",
       "    </tr>\n",
       "  </thead>\n",
       "  <tbody>\n",
       "    <tr>\n",
       "      <th>0</th>\n",
       "      <td>A1</td>\n",
       "      <td>37.4500</td>\n",
       "      <td>14</td>\n",
       "      <td>3</td>\n",
       "      <td>Palmdale</td>\n",
       "      <td>Freightliner</td>\n",
       "      <td>9217.0</td>\n",
       "      <td>1914.0</td>\n",
       "      <td>0</td>\n",
       "    </tr>\n",
       "    <tr>\n",
       "      <th>1</th>\n",
       "      <td>A10</td>\n",
       "      <td>31.7625</td>\n",
       "      <td>21</td>\n",
       "      <td>6</td>\n",
       "      <td>Palo Alto</td>\n",
       "      <td>Peterbilt</td>\n",
       "      <td>13699.0</td>\n",
       "      <td>2583.0</td>\n",
       "      <td>1</td>\n",
       "    </tr>\n",
       "    <tr>\n",
       "      <th>2</th>\n",
       "      <td>A100</td>\n",
       "      <td>30.3625</td>\n",
       "      <td>24</td>\n",
       "      <td>4</td>\n",
       "      <td>Santa Rosa</td>\n",
       "      <td>Peterbilt</td>\n",
       "      <td>13019.0</td>\n",
       "      <td>2329.0</td>\n",
       "      <td>0</td>\n",
       "    </tr>\n",
       "    <tr>\n",
       "      <th>3</th>\n",
       "      <td>A11</td>\n",
       "      <td>33.8375</td>\n",
       "      <td>12</td>\n",
       "      <td>5</td>\n",
       "      <td>Santa Rosa</td>\n",
       "      <td>Peterbilt</td>\n",
       "      <td>12447.0</td>\n",
       "      <td>2596.0</td>\n",
       "      <td>1</td>\n",
       "    </tr>\n",
       "    <tr>\n",
       "      <th>4</th>\n",
       "      <td>A12</td>\n",
       "      <td>35.3000</td>\n",
       "      <td>20</td>\n",
       "      <td>5</td>\n",
       "      <td>Santa Rosa</td>\n",
       "      <td>Caterpillar</td>\n",
       "      <td>10006.0</td>\n",
       "      <td>2055.0</td>\n",
       "      <td>1</td>\n",
       "    </tr>\n",
       "  </tbody>\n",
       "</table>\n",
       "</div>"
      ],
      "text/plain": [
       "  driverid  average_velocity  total_idling_ind  total_event_ind   \n",
       "0       A1           37.4500                14                3  \\\n",
       "1      A10           31.7625                21                6   \n",
       "2     A100           30.3625                24                4   \n",
       "3      A11           33.8375                12                5   \n",
       "4      A12           35.3000                20                5   \n",
       "\n",
       "  most_frequent_city         model  average_miles  average_gas   \n",
       "0           Palmdale  Freightliner         9217.0       1914.0  \\\n",
       "1          Palo Alto     Peterbilt        13699.0       2583.0   \n",
       "2         Santa Rosa     Peterbilt        13019.0       2329.0   \n",
       "3         Santa Rosa     Peterbilt        12447.0       2596.0   \n",
       "4         Santa Rosa   Caterpillar        10006.0       2055.0   \n",
       "\n",
       "   total_overspeed_events  \n",
       "0                       0  \n",
       "1                       1  \n",
       "2                       0  \n",
       "3                       1  \n",
       "4                       1  "
      ]
     },
     "execution_count": 257,
     "metadata": {},
     "output_type": "execute_result"
    }
   ],
   "source": [
    "new_df.head()"
   ]
  },
  {
   "cell_type": "code",
   "execution_count": 261,
   "id": "62b4f2a9-ece8-4611-be3c-678e9c7a7c8b",
   "metadata": {
    "tags": []
   },
   "outputs": [
    {
     "data": {
      "text/plain": [
       "driverid                   object\n",
       "average_velocity          float64\n",
       "total_idling_ind            int32\n",
       "total_event_ind             int32\n",
       "most_frequent_city         object\n",
       "model                      object\n",
       "average_miles             float64\n",
       "average_gas               float64\n",
       "total_overspeed_events      int64\n",
       "dtype: object"
      ]
     },
     "execution_count": 261,
     "metadata": {},
     "output_type": "execute_result"
    }
   ],
   "source": [
    "new_df.dtypes"
   ]
  },
  {
   "cell_type": "code",
   "execution_count": 264,
   "id": "647dea28-e514-4396-82b4-b6e2999c2333",
   "metadata": {
    "tags": []
   },
   "outputs": [
    {
     "data": {
      "text/html": [
       "<div>\n",
       "<style scoped>\n",
       "    .dataframe tbody tr th:only-of-type {\n",
       "        vertical-align: middle;\n",
       "    }\n",
       "\n",
       "    .dataframe tbody tr th {\n",
       "        vertical-align: top;\n",
       "    }\n",
       "\n",
       "    .dataframe thead th {\n",
       "        text-align: right;\n",
       "    }\n",
       "</style>\n",
       "<table border=\"1\" class=\"dataframe\">\n",
       "  <thead>\n",
       "    <tr style=\"text-align: right;\">\n",
       "      <th></th>\n",
       "      <th>driverid</th>\n",
       "      <th>events</th>\n",
       "      <th>totmiles</th>\n",
       "      <th>riskfactor</th>\n",
       "    </tr>\n",
       "  </thead>\n",
       "  <tbody>\n",
       "    <tr>\n",
       "      <th>0</th>\n",
       "      <td>A1</td>\n",
       "      <td>3</td>\n",
       "      <td>628507</td>\n",
       "      <td>4.773216</td>\n",
       "    </tr>\n",
       "    <tr>\n",
       "      <th>1</th>\n",
       "      <td>A2</td>\n",
       "      <td>1</td>\n",
       "      <td>664543</td>\n",
       "      <td>1.504793</td>\n",
       "    </tr>\n",
       "    <tr>\n",
       "      <th>2</th>\n",
       "      <td>A3</td>\n",
       "      <td>6</td>\n",
       "      <td>639584</td>\n",
       "      <td>9.381098</td>\n",
       "    </tr>\n",
       "    <tr>\n",
       "      <th>3</th>\n",
       "      <td>A4</td>\n",
       "      <td>6</td>\n",
       "      <td>663289</td>\n",
       "      <td>9.045831</td>\n",
       "    </tr>\n",
       "    <tr>\n",
       "      <th>4</th>\n",
       "      <td>A5</td>\n",
       "      <td>9</td>\n",
       "      <td>676574</td>\n",
       "      <td>13.302314</td>\n",
       "    </tr>\n",
       "  </tbody>\n",
       "</table>\n",
       "</div>"
      ],
      "text/plain": [
       "  driverid  events  totmiles  riskfactor\n",
       "0       A1       3    628507    4.773216\n",
       "1       A2       1    664543    1.504793\n",
       "2       A3       6    639584    9.381098\n",
       "3       A4       6    663289    9.045831\n",
       "4       A5       9    676574   13.302314"
      ]
     },
     "execution_count": 264,
     "metadata": {},
     "output_type": "execute_result"
    }
   ],
   "source": [
    "risk_factor.head()"
   ]
  },
  {
   "cell_type": "code",
   "execution_count": 265,
   "id": "091a2202-5753-485a-b140-b1bcd0ea9e33",
   "metadata": {
    "tags": []
   },
   "outputs": [
    {
     "data": {
      "text/plain": [
       "driverid       object\n",
       "events          int32\n",
       "totmiles        int32\n",
       "riskfactor    float64\n",
       "dtype: object"
      ]
     },
     "execution_count": 265,
     "metadata": {},
     "output_type": "execute_result"
    }
   ],
   "source": [
    "risk_factor.dtypes"
   ]
  },
  {
   "cell_type": "code",
   "execution_count": 267,
   "id": "95b5ae14-38ac-4844-bf5a-516a3d69ae4d",
   "metadata": {
    "tags": []
   },
   "outputs": [
    {
     "data": {
      "text/html": [
       "<div>\n",
       "<style scoped>\n",
       "    .dataframe tbody tr th:only-of-type {\n",
       "        vertical-align: middle;\n",
       "    }\n",
       "\n",
       "    .dataframe tbody tr th {\n",
       "        vertical-align: top;\n",
       "    }\n",
       "\n",
       "    .dataframe thead th {\n",
       "        text-align: right;\n",
       "    }\n",
       "</style>\n",
       "<table border=\"1\" class=\"dataframe\">\n",
       "  <thead>\n",
       "    <tr style=\"text-align: right;\">\n",
       "      <th></th>\n",
       "      <th>driverid</th>\n",
       "      <th>average_velocity</th>\n",
       "      <th>total_idling_ind</th>\n",
       "      <th>total_event_ind</th>\n",
       "      <th>most_frequent_city</th>\n",
       "      <th>model</th>\n",
       "      <th>average_miles</th>\n",
       "      <th>average_gas</th>\n",
       "      <th>total_overspeed_events</th>\n",
       "      <th>totmiles</th>\n",
       "      <th>events</th>\n",
       "      <th>riskfactor</th>\n",
       "    </tr>\n",
       "  </thead>\n",
       "  <tbody>\n",
       "    <tr>\n",
       "      <th>0</th>\n",
       "      <td>A1</td>\n",
       "      <td>37.4500</td>\n",
       "      <td>14</td>\n",
       "      <td>3</td>\n",
       "      <td>Palmdale</td>\n",
       "      <td>Freightliner</td>\n",
       "      <td>9217.0</td>\n",
       "      <td>1914.0</td>\n",
       "      <td>0</td>\n",
       "      <td>628507</td>\n",
       "      <td>3</td>\n",
       "      <td>4.773216</td>\n",
       "    </tr>\n",
       "    <tr>\n",
       "      <th>1</th>\n",
       "      <td>A10</td>\n",
       "      <td>31.7625</td>\n",
       "      <td>21</td>\n",
       "      <td>6</td>\n",
       "      <td>Palo Alto</td>\n",
       "      <td>Peterbilt</td>\n",
       "      <td>13699.0</td>\n",
       "      <td>2583.0</td>\n",
       "      <td>1</td>\n",
       "      <td>675377</td>\n",
       "      <td>6</td>\n",
       "      <td>8.883927</td>\n",
       "    </tr>\n",
       "    <tr>\n",
       "      <th>2</th>\n",
       "      <td>A100</td>\n",
       "      <td>30.3625</td>\n",
       "      <td>24</td>\n",
       "      <td>4</td>\n",
       "      <td>Santa Rosa</td>\n",
       "      <td>Peterbilt</td>\n",
       "      <td>13019.0</td>\n",
       "      <td>2329.0</td>\n",
       "      <td>0</td>\n",
       "      <td>634338</td>\n",
       "      <td>4</td>\n",
       "      <td>6.305787</td>\n",
       "    </tr>\n",
       "    <tr>\n",
       "      <th>3</th>\n",
       "      <td>A11</td>\n",
       "      <td>33.8375</td>\n",
       "      <td>12</td>\n",
       "      <td>5</td>\n",
       "      <td>Santa Rosa</td>\n",
       "      <td>Peterbilt</td>\n",
       "      <td>12447.0</td>\n",
       "      <td>2596.0</td>\n",
       "      <td>1</td>\n",
       "      <td>652452</td>\n",
       "      <td>5</td>\n",
       "      <td>7.663399</td>\n",
       "    </tr>\n",
       "    <tr>\n",
       "      <th>4</th>\n",
       "      <td>A12</td>\n",
       "      <td>35.3000</td>\n",
       "      <td>20</td>\n",
       "      <td>5</td>\n",
       "      <td>Santa Rosa</td>\n",
       "      <td>Caterpillar</td>\n",
       "      <td>10006.0</td>\n",
       "      <td>2055.0</td>\n",
       "      <td>1</td>\n",
       "      <td>668241</td>\n",
       "      <td>5</td>\n",
       "      <td>7.482331</td>\n",
       "    </tr>\n",
       "  </tbody>\n",
       "</table>\n",
       "</div>"
      ],
      "text/plain": [
       "  driverid  average_velocity  total_idling_ind  total_event_ind   \n",
       "0       A1           37.4500                14                3  \\\n",
       "1      A10           31.7625                21                6   \n",
       "2     A100           30.3625                24                4   \n",
       "3      A11           33.8375                12                5   \n",
       "4      A12           35.3000                20                5   \n",
       "\n",
       "  most_frequent_city         model  average_miles  average_gas   \n",
       "0           Palmdale  Freightliner         9217.0       1914.0  \\\n",
       "1          Palo Alto     Peterbilt        13699.0       2583.0   \n",
       "2         Santa Rosa     Peterbilt        13019.0       2329.0   \n",
       "3         Santa Rosa     Peterbilt        12447.0       2596.0   \n",
       "4         Santa Rosa   Caterpillar        10006.0       2055.0   \n",
       "\n",
       "   total_overspeed_events  totmiles  events  riskfactor  \n",
       "0                       0    628507       3    4.773216  \n",
       "1                       1    675377       6    8.883927  \n",
       "2                       0    634338       4    6.305787  \n",
       "3                       1    652452       5    7.663399  \n",
       "4                       1    668241       5    7.482331  "
      ]
     },
     "execution_count": 267,
     "metadata": {},
     "output_type": "execute_result"
    }
   ],
   "source": [
    "new_df = new_df.merge(risk_factor[[\"driverid\", \"totmiles\", \"events\", \"riskfactor\"]], on = \"driverid\")\n",
    "new_df.head()"
   ]
  },
  {
   "cell_type": "code",
   "execution_count": 268,
   "id": "35a72737-3dc4-4828-a4d9-7fea3c049460",
   "metadata": {
    "tags": []
   },
   "outputs": [],
   "source": [
    "from sklearn.linear_model import LogisticRegression\n",
    "from sklearn.tree import DecisionTreeClassifier\n",
    "from sklearn.model_selection import train_test_split\n",
    "from sklearn.metrics import classification_report"
   ]
  },
  {
   "cell_type": "code",
   "execution_count": 269,
   "id": "34ace86d-1942-47ec-bc03-a7111bc02879",
   "metadata": {
    "tags": []
   },
   "outputs": [],
   "source": [
    "# Create a list of features and the target variable\n",
    "features = ['average_velocity', 'total_idling_ind', 'total_event_ind', 'most_frequent_city', 'model', 'average_miles', 'average_gas', 'total_overspeed_events', 'totmiles', 'events']\n",
    "target = 'riskfactor'"
   ]
  },
  {
   "cell_type": "code",
   "execution_count": 283,
   "id": "e2f0c4d2-bbbb-4308-9604-d560ee70c75f",
   "metadata": {
    "tags": []
   },
   "outputs": [
    {
     "data": {
      "text/html": [
       "<div>\n",
       "<style scoped>\n",
       "    .dataframe tbody tr th:only-of-type {\n",
       "        vertical-align: middle;\n",
       "    }\n",
       "\n",
       "    .dataframe tbody tr th {\n",
       "        vertical-align: top;\n",
       "    }\n",
       "\n",
       "    .dataframe thead th {\n",
       "        text-align: right;\n",
       "    }\n",
       "</style>\n",
       "<table border=\"1\" class=\"dataframe\">\n",
       "  <thead>\n",
       "    <tr style=\"text-align: right;\">\n",
       "      <th></th>\n",
       "      <th>average_velocity</th>\n",
       "      <th>total_idling_ind</th>\n",
       "      <th>total_event_ind</th>\n",
       "      <th>average_miles</th>\n",
       "      <th>average_gas</th>\n",
       "      <th>total_overspeed_events</th>\n",
       "      <th>totmiles</th>\n",
       "      <th>events</th>\n",
       "      <th>riskfactor</th>\n",
       "      <th>most_frequent_city_Antelope</th>\n",
       "      <th>...</th>\n",
       "      <th>model_Crane</th>\n",
       "      <th>model_Ford</th>\n",
       "      <th>model_Freightliner</th>\n",
       "      <th>model_Hino</th>\n",
       "      <th>model_Kenworth</th>\n",
       "      <th>model_Navistar</th>\n",
       "      <th>model_Oshkosh</th>\n",
       "      <th>model_Peterbilt</th>\n",
       "      <th>model_Volvo</th>\n",
       "      <th>model_Western Star</th>\n",
       "    </tr>\n",
       "  </thead>\n",
       "  <tbody>\n",
       "    <tr>\n",
       "      <th>0</th>\n",
       "      <td>37.4500</td>\n",
       "      <td>14</td>\n",
       "      <td>3</td>\n",
       "      <td>9217.0</td>\n",
       "      <td>1914.0</td>\n",
       "      <td>0</td>\n",
       "      <td>628507</td>\n",
       "      <td>3</td>\n",
       "      <td>4.773216</td>\n",
       "      <td>False</td>\n",
       "      <td>...</td>\n",
       "      <td>False</td>\n",
       "      <td>False</td>\n",
       "      <td>True</td>\n",
       "      <td>False</td>\n",
       "      <td>False</td>\n",
       "      <td>False</td>\n",
       "      <td>False</td>\n",
       "      <td>False</td>\n",
       "      <td>False</td>\n",
       "      <td>False</td>\n",
       "    </tr>\n",
       "    <tr>\n",
       "      <th>1</th>\n",
       "      <td>31.7625</td>\n",
       "      <td>21</td>\n",
       "      <td>6</td>\n",
       "      <td>13699.0</td>\n",
       "      <td>2583.0</td>\n",
       "      <td>1</td>\n",
       "      <td>675377</td>\n",
       "      <td>6</td>\n",
       "      <td>8.883927</td>\n",
       "      <td>False</td>\n",
       "      <td>...</td>\n",
       "      <td>False</td>\n",
       "      <td>False</td>\n",
       "      <td>False</td>\n",
       "      <td>False</td>\n",
       "      <td>False</td>\n",
       "      <td>False</td>\n",
       "      <td>False</td>\n",
       "      <td>True</td>\n",
       "      <td>False</td>\n",
       "      <td>False</td>\n",
       "    </tr>\n",
       "    <tr>\n",
       "      <th>2</th>\n",
       "      <td>30.3625</td>\n",
       "      <td>24</td>\n",
       "      <td>4</td>\n",
       "      <td>13019.0</td>\n",
       "      <td>2329.0</td>\n",
       "      <td>0</td>\n",
       "      <td>634338</td>\n",
       "      <td>4</td>\n",
       "      <td>6.305787</td>\n",
       "      <td>False</td>\n",
       "      <td>...</td>\n",
       "      <td>False</td>\n",
       "      <td>False</td>\n",
       "      <td>False</td>\n",
       "      <td>False</td>\n",
       "      <td>False</td>\n",
       "      <td>False</td>\n",
       "      <td>False</td>\n",
       "      <td>True</td>\n",
       "      <td>False</td>\n",
       "      <td>False</td>\n",
       "    </tr>\n",
       "    <tr>\n",
       "      <th>3</th>\n",
       "      <td>33.8375</td>\n",
       "      <td>12</td>\n",
       "      <td>5</td>\n",
       "      <td>12447.0</td>\n",
       "      <td>2596.0</td>\n",
       "      <td>1</td>\n",
       "      <td>652452</td>\n",
       "      <td>5</td>\n",
       "      <td>7.663399</td>\n",
       "      <td>False</td>\n",
       "      <td>...</td>\n",
       "      <td>False</td>\n",
       "      <td>False</td>\n",
       "      <td>False</td>\n",
       "      <td>False</td>\n",
       "      <td>False</td>\n",
       "      <td>False</td>\n",
       "      <td>False</td>\n",
       "      <td>True</td>\n",
       "      <td>False</td>\n",
       "      <td>False</td>\n",
       "    </tr>\n",
       "    <tr>\n",
       "      <th>4</th>\n",
       "      <td>35.3000</td>\n",
       "      <td>20</td>\n",
       "      <td>5</td>\n",
       "      <td>10006.0</td>\n",
       "      <td>2055.0</td>\n",
       "      <td>1</td>\n",
       "      <td>668241</td>\n",
       "      <td>5</td>\n",
       "      <td>7.482331</td>\n",
       "      <td>False</td>\n",
       "      <td>...</td>\n",
       "      <td>False</td>\n",
       "      <td>False</td>\n",
       "      <td>False</td>\n",
       "      <td>False</td>\n",
       "      <td>False</td>\n",
       "      <td>False</td>\n",
       "      <td>False</td>\n",
       "      <td>False</td>\n",
       "      <td>False</td>\n",
       "      <td>False</td>\n",
       "    </tr>\n",
       "  </tbody>\n",
       "</table>\n",
       "<p>5 rows × 35 columns</p>\n",
       "</div>"
      ],
      "text/plain": [
       "   average_velocity  total_idling_ind  total_event_ind  average_miles   \n",
       "0           37.4500                14                3         9217.0  \\\n",
       "1           31.7625                21                6        13699.0   \n",
       "2           30.3625                24                4        13019.0   \n",
       "3           33.8375                12                5        12447.0   \n",
       "4           35.3000                20                5        10006.0   \n",
       "\n",
       "   average_gas  total_overspeed_events  totmiles  events  riskfactor   \n",
       "0       1914.0                       0    628507       3    4.773216  \\\n",
       "1       2583.0                       1    675377       6    8.883927   \n",
       "2       2329.0                       0    634338       4    6.305787   \n",
       "3       2596.0                       1    652452       5    7.663399   \n",
       "4       2055.0                       1    668241       5    7.482331   \n",
       "\n",
       "   most_frequent_city_Antelope  ...  model_Crane  model_Ford   \n",
       "0                        False  ...        False       False  \\\n",
       "1                        False  ...        False       False   \n",
       "2                        False  ...        False       False   \n",
       "3                        False  ...        False       False   \n",
       "4                        False  ...        False       False   \n",
       "\n",
       "   model_Freightliner  model_Hino  model_Kenworth  model_Navistar   \n",
       "0                True       False           False           False  \\\n",
       "1               False       False           False           False   \n",
       "2               False       False           False           False   \n",
       "3               False       False           False           False   \n",
       "4               False       False           False           False   \n",
       "\n",
       "   model_Oshkosh  model_Peterbilt  model_Volvo  model_Western Star  \n",
       "0          False            False        False               False  \n",
       "1          False             True        False               False  \n",
       "2          False             True        False               False  \n",
       "3          False             True        False               False  \n",
       "4          False            False        False               False  \n",
       "\n",
       "[5 rows x 35 columns]"
      ]
     },
     "execution_count": 283,
     "metadata": {},
     "output_type": "execute_result"
    }
   ],
   "source": [
    "# Convert categorical variables into dummy variables\n",
    "encoded_data = pd.get_dummies(new_df, columns=['most_frequent_city', 'model'])\n",
    "encoded_data = encoded_data.drop([\"driverid\"] , axis = 1)\n",
    "encoded_data.head()"
   ]
  },
  {
   "cell_type": "code",
   "execution_count": 277,
   "id": "4599d1e1-0c99-434c-b423-d90a16a7dd59",
   "metadata": {
    "tags": []
   },
   "outputs": [],
   "source": [
    "# data.reset_index()"
   ]
  },
  {
   "cell_type": "code",
   "execution_count": 287,
   "id": "b5602744-1e51-49e8-86c9-dc337a03dd09",
   "metadata": {
    "tags": []
   },
   "outputs": [
    {
     "data": {
      "text/plain": [
       "count    99.000000\n",
       "mean      7.128344\n",
       "std       3.957285\n",
       "min       1.504793\n",
       "25%       4.625128\n",
       "50%       7.518560\n",
       "75%       9.145439\n",
       "max      31.685730\n",
       "Name: riskfactor, dtype: float64"
      ]
     },
     "execution_count": 287,
     "metadata": {},
     "output_type": "execute_result"
    }
   ],
   "source": [
    "# data.shape\n",
    "encoded_data[\"riskfactor\"].describe()"
   ]
  },
  {
   "cell_type": "code",
   "execution_count": 289,
   "id": "38dd6beb-861d-4456-b4db-d7c187efe609",
   "metadata": {
    "tags": []
   },
   "outputs": [],
   "source": [
    "import numpy as np\n",
    "encoded_data[\"riskfactor\"] = np.where(encoded_data[\"riskfactor\"] >= 7.5, 1, 0 ) "
   ]
  },
  {
   "cell_type": "code",
   "execution_count": 290,
   "id": "ff533d1a-725e-442a-a10f-d6b6767fa7b8",
   "metadata": {
    "tags": []
   },
   "outputs": [
    {
     "data": {
      "text/html": [
       "<div>\n",
       "<style scoped>\n",
       "    .dataframe tbody tr th:only-of-type {\n",
       "        vertical-align: middle;\n",
       "    }\n",
       "\n",
       "    .dataframe tbody tr th {\n",
       "        vertical-align: top;\n",
       "    }\n",
       "\n",
       "    .dataframe thead th {\n",
       "        text-align: right;\n",
       "    }\n",
       "</style>\n",
       "<table border=\"1\" class=\"dataframe\">\n",
       "  <thead>\n",
       "    <tr style=\"text-align: right;\">\n",
       "      <th></th>\n",
       "      <th>average_velocity</th>\n",
       "      <th>total_idling_ind</th>\n",
       "      <th>total_event_ind</th>\n",
       "      <th>average_miles</th>\n",
       "      <th>average_gas</th>\n",
       "      <th>total_overspeed_events</th>\n",
       "      <th>totmiles</th>\n",
       "      <th>events</th>\n",
       "      <th>riskfactor</th>\n",
       "      <th>most_frequent_city_Antelope</th>\n",
       "      <th>...</th>\n",
       "      <th>model_Crane</th>\n",
       "      <th>model_Ford</th>\n",
       "      <th>model_Freightliner</th>\n",
       "      <th>model_Hino</th>\n",
       "      <th>model_Kenworth</th>\n",
       "      <th>model_Navistar</th>\n",
       "      <th>model_Oshkosh</th>\n",
       "      <th>model_Peterbilt</th>\n",
       "      <th>model_Volvo</th>\n",
       "      <th>model_Western Star</th>\n",
       "    </tr>\n",
       "  </thead>\n",
       "  <tbody>\n",
       "    <tr>\n",
       "      <th>0</th>\n",
       "      <td>37.4500</td>\n",
       "      <td>14</td>\n",
       "      <td>3</td>\n",
       "      <td>9217.0</td>\n",
       "      <td>1914.0</td>\n",
       "      <td>0</td>\n",
       "      <td>628507</td>\n",
       "      <td>3</td>\n",
       "      <td>0</td>\n",
       "      <td>False</td>\n",
       "      <td>...</td>\n",
       "      <td>False</td>\n",
       "      <td>False</td>\n",
       "      <td>True</td>\n",
       "      <td>False</td>\n",
       "      <td>False</td>\n",
       "      <td>False</td>\n",
       "      <td>False</td>\n",
       "      <td>False</td>\n",
       "      <td>False</td>\n",
       "      <td>False</td>\n",
       "    </tr>\n",
       "    <tr>\n",
       "      <th>1</th>\n",
       "      <td>31.7625</td>\n",
       "      <td>21</td>\n",
       "      <td>6</td>\n",
       "      <td>13699.0</td>\n",
       "      <td>2583.0</td>\n",
       "      <td>1</td>\n",
       "      <td>675377</td>\n",
       "      <td>6</td>\n",
       "      <td>1</td>\n",
       "      <td>False</td>\n",
       "      <td>...</td>\n",
       "      <td>False</td>\n",
       "      <td>False</td>\n",
       "      <td>False</td>\n",
       "      <td>False</td>\n",
       "      <td>False</td>\n",
       "      <td>False</td>\n",
       "      <td>False</td>\n",
       "      <td>True</td>\n",
       "      <td>False</td>\n",
       "      <td>False</td>\n",
       "    </tr>\n",
       "    <tr>\n",
       "      <th>2</th>\n",
       "      <td>30.3625</td>\n",
       "      <td>24</td>\n",
       "      <td>4</td>\n",
       "      <td>13019.0</td>\n",
       "      <td>2329.0</td>\n",
       "      <td>0</td>\n",
       "      <td>634338</td>\n",
       "      <td>4</td>\n",
       "      <td>0</td>\n",
       "      <td>False</td>\n",
       "      <td>...</td>\n",
       "      <td>False</td>\n",
       "      <td>False</td>\n",
       "      <td>False</td>\n",
       "      <td>False</td>\n",
       "      <td>False</td>\n",
       "      <td>False</td>\n",
       "      <td>False</td>\n",
       "      <td>True</td>\n",
       "      <td>False</td>\n",
       "      <td>False</td>\n",
       "    </tr>\n",
       "    <tr>\n",
       "      <th>3</th>\n",
       "      <td>33.8375</td>\n",
       "      <td>12</td>\n",
       "      <td>5</td>\n",
       "      <td>12447.0</td>\n",
       "      <td>2596.0</td>\n",
       "      <td>1</td>\n",
       "      <td>652452</td>\n",
       "      <td>5</td>\n",
       "      <td>1</td>\n",
       "      <td>False</td>\n",
       "      <td>...</td>\n",
       "      <td>False</td>\n",
       "      <td>False</td>\n",
       "      <td>False</td>\n",
       "      <td>False</td>\n",
       "      <td>False</td>\n",
       "      <td>False</td>\n",
       "      <td>False</td>\n",
       "      <td>True</td>\n",
       "      <td>False</td>\n",
       "      <td>False</td>\n",
       "    </tr>\n",
       "    <tr>\n",
       "      <th>4</th>\n",
       "      <td>35.3000</td>\n",
       "      <td>20</td>\n",
       "      <td>5</td>\n",
       "      <td>10006.0</td>\n",
       "      <td>2055.0</td>\n",
       "      <td>1</td>\n",
       "      <td>668241</td>\n",
       "      <td>5</td>\n",
       "      <td>0</td>\n",
       "      <td>False</td>\n",
       "      <td>...</td>\n",
       "      <td>False</td>\n",
       "      <td>False</td>\n",
       "      <td>False</td>\n",
       "      <td>False</td>\n",
       "      <td>False</td>\n",
       "      <td>False</td>\n",
       "      <td>False</td>\n",
       "      <td>False</td>\n",
       "      <td>False</td>\n",
       "      <td>False</td>\n",
       "    </tr>\n",
       "  </tbody>\n",
       "</table>\n",
       "<p>5 rows × 35 columns</p>\n",
       "</div>"
      ],
      "text/plain": [
       "   average_velocity  total_idling_ind  total_event_ind  average_miles   \n",
       "0           37.4500                14                3         9217.0  \\\n",
       "1           31.7625                21                6        13699.0   \n",
       "2           30.3625                24                4        13019.0   \n",
       "3           33.8375                12                5        12447.0   \n",
       "4           35.3000                20                5        10006.0   \n",
       "\n",
       "   average_gas  total_overspeed_events  totmiles  events  riskfactor   \n",
       "0       1914.0                       0    628507       3           0  \\\n",
       "1       2583.0                       1    675377       6           1   \n",
       "2       2329.0                       0    634338       4           0   \n",
       "3       2596.0                       1    652452       5           1   \n",
       "4       2055.0                       1    668241       5           0   \n",
       "\n",
       "   most_frequent_city_Antelope  ...  model_Crane  model_Ford   \n",
       "0                        False  ...        False       False  \\\n",
       "1                        False  ...        False       False   \n",
       "2                        False  ...        False       False   \n",
       "3                        False  ...        False       False   \n",
       "4                        False  ...        False       False   \n",
       "\n",
       "   model_Freightliner  model_Hino  model_Kenworth  model_Navistar   \n",
       "0                True       False           False           False  \\\n",
       "1               False       False           False           False   \n",
       "2               False       False           False           False   \n",
       "3               False       False           False           False   \n",
       "4               False       False           False           False   \n",
       "\n",
       "   model_Oshkosh  model_Peterbilt  model_Volvo  model_Western Star  \n",
       "0          False            False        False               False  \n",
       "1          False             True        False               False  \n",
       "2          False             True        False               False  \n",
       "3          False             True        False               False  \n",
       "4          False            False        False               False  \n",
       "\n",
       "[5 rows x 35 columns]"
      ]
     },
     "execution_count": 290,
     "metadata": {},
     "output_type": "execute_result"
    }
   ],
   "source": [
    "encoded_data.head()"
   ]
  },
  {
   "cell_type": "code",
   "execution_count": 291,
   "id": "c6c82741-7443-4a1c-a298-035682029901",
   "metadata": {
    "tags": []
   },
   "outputs": [],
   "source": [
    "# Split the data into training and testing sets\n",
    "X_train, X_test, y_train, y_test = train_test_split(encoded_data.drop('riskfactor', axis=1), encoded_data['riskfactor'], test_size=0.3, random_state=42)"
   ]
  },
  {
   "cell_type": "code",
   "execution_count": 293,
   "id": "bda15952-2f8e-4e2a-903d-ad95fe10cb1a",
   "metadata": {
    "tags": []
   },
   "outputs": [
    {
     "data": {
      "text/html": [
       "<style>#sk-container-id-1 {color: black;background-color: white;}#sk-container-id-1 pre{padding: 0;}#sk-container-id-1 div.sk-toggleable {background-color: white;}#sk-container-id-1 label.sk-toggleable__label {cursor: pointer;display: block;width: 100%;margin-bottom: 0;padding: 0.3em;box-sizing: border-box;text-align: center;}#sk-container-id-1 label.sk-toggleable__label-arrow:before {content: \"▸\";float: left;margin-right: 0.25em;color: #696969;}#sk-container-id-1 label.sk-toggleable__label-arrow:hover:before {color: black;}#sk-container-id-1 div.sk-estimator:hover label.sk-toggleable__label-arrow:before {color: black;}#sk-container-id-1 div.sk-toggleable__content {max-height: 0;max-width: 0;overflow: hidden;text-align: left;background-color: #f0f8ff;}#sk-container-id-1 div.sk-toggleable__content pre {margin: 0.2em;color: black;border-radius: 0.25em;background-color: #f0f8ff;}#sk-container-id-1 input.sk-toggleable__control:checked~div.sk-toggleable__content {max-height: 200px;max-width: 100%;overflow: auto;}#sk-container-id-1 input.sk-toggleable__control:checked~label.sk-toggleable__label-arrow:before {content: \"▾\";}#sk-container-id-1 div.sk-estimator input.sk-toggleable__control:checked~label.sk-toggleable__label {background-color: #d4ebff;}#sk-container-id-1 div.sk-label input.sk-toggleable__control:checked~label.sk-toggleable__label {background-color: #d4ebff;}#sk-container-id-1 input.sk-hidden--visually {border: 0;clip: rect(1px 1px 1px 1px);clip: rect(1px, 1px, 1px, 1px);height: 1px;margin: -1px;overflow: hidden;padding: 0;position: absolute;width: 1px;}#sk-container-id-1 div.sk-estimator {font-family: monospace;background-color: #f0f8ff;border: 1px dotted black;border-radius: 0.25em;box-sizing: border-box;margin-bottom: 0.5em;}#sk-container-id-1 div.sk-estimator:hover {background-color: #d4ebff;}#sk-container-id-1 div.sk-parallel-item::after {content: \"\";width: 100%;border-bottom: 1px solid gray;flex-grow: 1;}#sk-container-id-1 div.sk-label:hover label.sk-toggleable__label {background-color: #d4ebff;}#sk-container-id-1 div.sk-serial::before {content: \"\";position: absolute;border-left: 1px solid gray;box-sizing: border-box;top: 0;bottom: 0;left: 50%;z-index: 0;}#sk-container-id-1 div.sk-serial {display: flex;flex-direction: column;align-items: center;background-color: white;padding-right: 0.2em;padding-left: 0.2em;position: relative;}#sk-container-id-1 div.sk-item {position: relative;z-index: 1;}#sk-container-id-1 div.sk-parallel {display: flex;align-items: stretch;justify-content: center;background-color: white;position: relative;}#sk-container-id-1 div.sk-item::before, #sk-container-id-1 div.sk-parallel-item::before {content: \"\";position: absolute;border-left: 1px solid gray;box-sizing: border-box;top: 0;bottom: 0;left: 50%;z-index: -1;}#sk-container-id-1 div.sk-parallel-item {display: flex;flex-direction: column;z-index: 1;position: relative;background-color: white;}#sk-container-id-1 div.sk-parallel-item:first-child::after {align-self: flex-end;width: 50%;}#sk-container-id-1 div.sk-parallel-item:last-child::after {align-self: flex-start;width: 50%;}#sk-container-id-1 div.sk-parallel-item:only-child::after {width: 0;}#sk-container-id-1 div.sk-dashed-wrapped {border: 1px dashed gray;margin: 0 0.4em 0.5em 0.4em;box-sizing: border-box;padding-bottom: 0.4em;background-color: white;}#sk-container-id-1 div.sk-label label {font-family: monospace;font-weight: bold;display: inline-block;line-height: 1.2em;}#sk-container-id-1 div.sk-label-container {text-align: center;}#sk-container-id-1 div.sk-container {/* jupyter's `normalize.less` sets `[hidden] { display: none; }` but bootstrap.min.css set `[hidden] { display: none !important; }` so we also need the `!important` here to be able to override the default hidden behavior on the sphinx rendered scikit-learn.org. See: https://github.com/scikit-learn/scikit-learn/issues/21755 */display: inline-block !important;position: relative;}#sk-container-id-1 div.sk-text-repr-fallback {display: none;}</style><div id=\"sk-container-id-1\" class=\"sk-top-container\"><div class=\"sk-text-repr-fallback\"><pre>DecisionTreeClassifier()</pre><b>In a Jupyter environment, please rerun this cell to show the HTML representation or trust the notebook. <br />On GitHub, the HTML representation is unable to render, please try loading this page with nbviewer.org.</b></div><div class=\"sk-container\" hidden><div class=\"sk-item\"><div class=\"sk-estimator sk-toggleable\"><input class=\"sk-toggleable__control sk-hidden--visually\" id=\"sk-estimator-id-1\" type=\"checkbox\" checked><label for=\"sk-estimator-id-1\" class=\"sk-toggleable__label sk-toggleable__label-arrow\">DecisionTreeClassifier</label><div class=\"sk-toggleable__content\"><pre>DecisionTreeClassifier()</pre></div></div></div></div></div>"
      ],
      "text/plain": [
       "DecisionTreeClassifier()"
      ]
     },
     "execution_count": 293,
     "metadata": {},
     "output_type": "execute_result"
    }
   ],
   "source": [
    "import joblib\n",
    "logreg = LogisticRegression()\n",
    "logreg.fit(X_train, y_train)\n",
    "# Train decision tree model\n",
    "dt_model = DecisionTreeClassifier()\n",
    "dt_model.fit(X_train, y_train)"
   ]
  },
  {
   "cell_type": "code",
   "execution_count": 295,
   "id": "aa211739-775b-4ace-b130-4055694fd981",
   "metadata": {
    "tags": []
   },
   "outputs": [],
   "source": [
    "# Make predictions on the testing set\n",
    "y_pred_logreg = logreg.predict(X_test)\n",
    "y_pred_dt = dt_model.predict(X_test)"
   ]
  },
  {
   "cell_type": "code",
   "execution_count": 296,
   "id": "1daaa570-a804-412d-aaae-7edd5abe9aaf",
   "metadata": {
    "tags": []
   },
   "outputs": [
    {
     "name": "stdout",
     "output_type": "stream",
     "text": [
      "Logistic Regression:\n",
      "              precision    recall  f1-score   support\n",
      "\n",
      "           0       0.60      0.60      0.60        15\n",
      "           1       0.60      0.60      0.60        15\n",
      "\n",
      "    accuracy                           0.60        30\n",
      "   macro avg       0.60      0.60      0.60        30\n",
      "weighted avg       0.60      0.60      0.60        30\n",
      "\n",
      "Decision Tree:\n",
      "              precision    recall  f1-score   support\n",
      "\n",
      "           0       1.00      1.00      1.00        15\n",
      "           1       1.00      1.00      1.00        15\n",
      "\n",
      "    accuracy                           1.00        30\n",
      "   macro avg       1.00      1.00      1.00        30\n",
      "weighted avg       1.00      1.00      1.00        30\n",
      "\n"
     ]
    }
   ],
   "source": [
    "# Print the classification report for each model\n",
    "print(\"Logistic Regression:\")\n",
    "print(classification_report(y_test, y_pred_logreg))\n",
    "print(\"Decision Tree:\")\n",
    "print(classification_report(y_test, y_pred_dt))\n"
   ]
  },
  {
   "cell_type": "code",
   "execution_count": 298,
   "id": "503ce369-703c-4cd4-97ee-a5237c6ed8eb",
   "metadata": {
    "tags": []
   },
   "outputs": [
    {
     "name": "stdout",
     "output_type": "stream",
     "text": [
      "Accuracy: 0.6\n"
     ]
    }
   ],
   "source": [
    "from sklearn.metrics import accuracy_score\n",
    "# Calculate accuracy\n",
    "accuracy = accuracy_score(y_test, y_pred_logreg)\n",
    "print('Accuracy:', accuracy)"
   ]
  },
  {
   "cell_type": "code",
   "execution_count": 299,
   "id": "0a9a1c5e-5da1-493e-a6a5-c3e0ee40f789",
   "metadata": {
    "tags": []
   },
   "outputs": [
    {
     "name": "stdout",
     "output_type": "stream",
     "text": [
      "Accuracy: 1.0\n"
     ]
    }
   ],
   "source": [
    "from sklearn.metrics import accuracy_score\n",
    "# Calculate accuracy\n",
    "accuracy = accuracy_score(y_test, y_pred_dt)\n",
    "print('Accuracy:', accuracy)\n",
    "# this means it overfits, creating a better model\n",
    "'''\n",
    "To fix this, you can try the following:\n",
    "\n",
    "Use a smaller and simpler decision tree: You can try to reduce the depth of the decision tree or limit the number of leaf nodes. This will help reduce the complexity of the model and prevent overfitting.\n",
    "\n",
    "Use regularization: Regularization is a technique used to prevent overfitting by adding a penalty term to the cost function. You can try adding L1 or L2 regularization to the decision tree model.\n",
    "\n",
    "Use cross-validation: Cross-validation is a technique used to evaluate the performance of a model on unseen data. You can use cross-validation to evaluate the decision tree model and check if it is overfitting.\n",
    "\n",
    "Gather more data: If you have a small dataset, it is possible that the model is overfitting due to lack of data. You can try to gather more data to train the model.\n",
    "\n",
    "Feature selection: It is possible that some of the features used in the decision tree model are not relevant for predicting the target variable. You can try to remove the irrelevant features and see if it improves the performance of the model.\n",
    "'''"
   ]
  },
  {
   "cell_type": "code",
   "execution_count": 309,
   "id": "2201df68-8f1e-4ceb-bc03-7c6849698c31",
   "metadata": {
    "tags": []
   },
   "outputs": [],
   "source": [
    "new_df = new_df.drop([\"driverid\"], axis = 1)\n"
   ]
  },
  {
   "cell_type": "code",
   "execution_count": 310,
   "id": "f964ed11-b456-4316-a5a7-4688d569b58a",
   "metadata": {
    "tags": []
   },
   "outputs": [],
   "source": [
    "new_df['riskfactor'] = new_df['riskfactor'].apply(lambda x: 1 if x > 7.5 else 0)"
   ]
  },
  {
   "cell_type": "code",
   "execution_count": 311,
   "id": "f18e6025-f2ae-46c3-a4e7-de7af01c2d63",
   "metadata": {
    "tags": []
   },
   "outputs": [],
   "source": [
    "from sklearn.compose import ColumnTransformer\n",
    "from sklearn.preprocessing import OneHotEncoder\n",
    "# create one-hot encoded features\n",
    "ct = ColumnTransformer(\n",
    "    [('one_hot_encoder', OneHotEncoder(drop='first'), ['most_frequent_city', 'model'])], \n",
    "    remainder='passthrough'\n",
    ")\n",
    "X = ct.fit_transform(new_df.iloc[:, :-1])\n",
    "y = new_df.iloc[:, -1]"
   ]
  },
  {
   "cell_type": "code",
   "execution_count": 312,
   "id": "4cb2e6c2-b799-4f20-9c1b-62aef382f713",
   "metadata": {
    "tags": []
   },
   "outputs": [
    {
     "name": "stdout",
     "output_type": "stream",
     "text": [
      "Decision Tree Accuracy:  0.95\n",
      "Logistic Regression Accuracy:  0.55\n"
     ]
    }
   ],
   "source": [
    "X_train, X_test, y_train, y_test = train_test_split(X, y, test_size=0.2, random_state=42)\n",
    "\n",
    "# train decision tree model\n",
    "dtc = DecisionTreeClassifier(max_depth=3)\n",
    "dtc.fit(X_train, y_train)\n",
    "y_pred = dtc.predict(X_test)\n",
    "dtc_accuracy = accuracy_score(y_test, y_pred)\n",
    "\n",
    "# train logistic regression model\n",
    "lr = LogisticRegression()\n",
    "lr.fit(X_train, y_train)\n",
    "y_pred = lr.predict(X_test)\n",
    "lr_accuracy = accuracy_score(y_test, y_pred)\n",
    "\n",
    "print(\"Decision Tree Accuracy: \", dtc_accuracy)\n",
    "print(\"Logistic Regression Accuracy: \", lr_accuracy)"
   ]
  },
  {
   "cell_type": "code",
   "execution_count": 313,
   "id": "067bb1b9-b485-4938-8d9d-8b047b197159",
   "metadata": {
    "tags": []
   },
   "outputs": [
    {
     "data": {
      "text/plain": [
       "['dt_model.joblib']"
      ]
     },
     "execution_count": 313,
     "metadata": {},
     "output_type": "execute_result"
    }
   ],
   "source": [
    "# Save models\n",
    "joblib.dump(lr, 'lr_model.joblib')\n",
    "joblib.dump(dtc, 'dt_model.joblib')\n",
    "\n",
    "# Load models\n",
    "# lr_model = joblib.load('lr_model.joblib')\n",
    "# dt_model = joblib.load('dt_model.joblib')"
   ]
  }
 ],
 "metadata": {
  "kernelspec": {
   "display_name": "Python 3 (ipykernel)",
   "language": "python",
   "name": "python3"
  },
  "language_info": {
   "codemirror_mode": {
    "name": "ipython",
    "version": 3
   },
   "file_extension": ".py",
   "mimetype": "text/x-python",
   "name": "python",
   "nbconvert_exporter": "python",
   "pygments_lexer": "ipython3",
   "version": "3.10.10"
  }
 },
 "nbformat": 4,
 "nbformat_minor": 5
}
